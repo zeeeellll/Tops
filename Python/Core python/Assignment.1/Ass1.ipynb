{
 "cells": [
  {
   "cell_type": "markdown",
   "metadata": {},
   "source": [
    "### 1. What are the types of Applications?\n",
    " \n",
    "Python is a versatile language used for developing various types of applications. Here are the **main types of applications** that can be built using Python:\n",
    "\n",
    "\n",
    "**1. Web Applications 🌐**  \n",
    "Python is widely used for **web development** with frameworks like:  \n",
    "- **Django** (full-stack, secure, scalable)  \n",
    "- **Flask** (lightweight, flexible)  \n",
    "- **FastAPI** (high-performance for APIs)  \n",
    "\n",
    "🔹 **Examples**:  \n",
    "- Social media platforms (Instagram, Pinterest)  \n",
    "- E-commerce websites  \n",
    "- RESTful APIs  \n",
    "\n",
    "\n",
    "**2. Desktop Applications 🖥️**  \n",
    "Python can be used to create **GUI-based desktop apps** using:  \n",
    "- **Tkinter** (built-in, simple UI)  \n",
    "- **PyQt / PySide** (powerful UI with Qt)  \n",
    "- **Kivy** (cross-platform, touchscreen-friendly)  \n",
    "\n",
    "🔹 **Examples**:  \n",
    "- Notepad-like text editors  \n",
    "- File management apps  \n",
    "- Media players  \n",
    "\n",
    "\n",
    "**3. Mobile Applications 📱**  \n",
    "Python supports **mobile app development** using:  \n",
    "- **Kivy** (cross-platform, touch UI)  \n",
    "- **BeeWare** (native apps for iOS & Android)  \n",
    "\n",
    "🔹 **Examples**:  \n",
    "- To-do list apps  \n",
    "- Fitness tracking apps  \n",
    "\n",
    "\n",
    "**4. Game Development 🎮**  \n",
    "Python is great for 2D and simple 3D games using:  \n",
    "- **Pygame** (popular for game dev)  \n",
    "- **Panda3D** (3D game engine)  \n",
    "- **Godot (with GDScript/Python)**  \n",
    "\n",
    "🔹 **Examples**:  \n",
    "- Simple arcade games  \n",
    "- Puzzle & educational games  \n",
    "\n",
    "\n",
    "**5. Data Science & Machine Learning 🤖**  \n",
    "Python is the **#1 choice** for data analysis, AI, and ML using:  \n",
    "- **NumPy, Pandas** (data processing)  \n",
    "- **Matplotlib, Seaborn** (data visualization)  \n",
    "- **TensorFlow, PyTorch, Scikit-learn** (ML, AI, deep learning)  \n",
    "\n",
    "🔹 **Examples**:  \n",
    "- Fraud detection systems  \n",
    "- Face recognition apps  \n",
    "- Data analytics dashboards  \n",
    "\n",
    "\n",
    "**6. Automation & Scripting ⚙️**  \n",
    "Python automates repetitive tasks using:  \n",
    "- **Selenium** (web scraping & testing)  \n",
    "- **PyAutoGUI** (GUI automation)  \n",
    "- **OS, shutil** (file handling)  \n",
    "\n",
    "🔹 **Examples**:  \n",
    "- Auto-filling forms  \n",
    "- Sending bulk emails  \n",
    "- Renaming & organizing files  \n",
    "\n",
    "\n",
    "**7. Embedded Systems & IoT 🔌**  \n",
    "Python runs on small devices using:  \n",
    "- **MicroPython** (for microcontrollers)  \n",
    "- **Raspberry Pi** (for IoT projects)  \n",
    "\n",
    "🔹 **Examples**:  \n",
    "- Smart home automation  \n",
    "- Temperature monitoring systems  \n",
    "\n",
    "**8. Cybersecurity & Ethical Hacking 🔓**  \n",
    "Python is widely used in security tools like:  \n",
    "- **Scapy** (packet analysis)  \n",
    "- **Nmap, Requests** (network scanning)  \n",
    "\n",
    "🔹 **Examples**:  \n",
    "- Vulnerability scanning  \n",
    "- Password cracking tools  \n",
    "\n",
    "\n",
    "**9. Finance & Fintech Applications 💰**  \n",
    "Python helps in financial analysis using:  \n",
    "- **QuantLib** (quantitative finance)  \n",
    "- **TA-Lib** (technical analysis)  \n",
    "\n",
    "🔹 **Examples**:  \n",
    "- Stock market analysis tools  \n",
    "- Cryptocurrency trading bots  \n",
    "\n",
    "\n",
    "**10. Chatbots & Virtual Assistants 💬**  \n",
    "Python is used for building AI-powered chatbots using:  \n",
    "- **NLTK, SpaCy** (natural language processing)  \n",
    "- **ChatterBot** (simple chatbot framework)  \n",
    "\n",
    "🔹 **Examples**:  \n",
    "- Customer service chatbots  \n",
    "- AI assistants like Alexa  \n",
    "\n",
    "\n",
    "**Conclusion**  \n",
    "Python can be used for almost **any type of application**, from web development to AI, automation, and beyond. Would you like help with a specific type of project? 😊🚀"
   ]
  },
  {
   "cell_type": "markdown",
   "metadata": {},
   "source": []
  },
  {
   "cell_type": "markdown",
   "metadata": {},
   "source": [
    "### Q.2 What is programming ?\n",
    "\n",
    "**Programming** is the process of writing **instructions** (code) that a computer can understand and execute to perform specific tasks. It’s like **giving commands** to a machine in a language it understands.  \n",
    "\n",
    "\n",
    "### **How Does Programming Work? **  \n",
    "1. **You Write Code** → Using a programming language (e.g., Python, Java, C++).  \n",
    "2. **Computer Translates It** → Converts the code into machine language (binary).  \n",
    "3. **Computer Executes It** → Performs the task (calculations, displaying data, running apps).  \n",
    "\n",
    "\n",
    "### **Why is Programming Important? **  \n",
    "✅ Automates tasks (e.g., data processing, calculations).  \n",
    "✅ Builds software (games, apps, websites).  \n",
    "✅ Powers AI, cybersecurity, finance, and more.  \n",
    "✅ Solves complex problems efficiently.  \n",
    "\n",
    "\n",
    "### **Example of a Simple Program (Python) **  \n",
    "**Code:**  \n",
    "```python\n",
    "print(\"Hello, World!\")  \n",
    "```\n",
    "**Output:**  \n",
    "```\n",
    "Hello, World!\n",
    "```\n",
    "This tells the computer to display the text **\"Hello, World!\"** on the screen.  \n",
    "\n",
    "Would you like to learn more about programming languages or how to start coding? \n"
   ]
  },
  {
   "cell_type": "markdown",
   "metadata": {},
   "source": [
    "### Q.3 Why is Python ?\n",
    "\n",
    "Python is a **high-level, interpreted programming language** known for its simplicity and readability. It was created by **Guido van Rossum** and first released in **1991**. Python is widely used for various applications, including:  \n",
    "\n",
    " **Key Features of Python:**\n",
    "✔ **Easy to Learn & Use** – Python has a simple and readable syntax.  \n",
    "✔ **Interpreted Language** – Code is executed line by line, making debugging easier.  \n",
    "✔ **Dynamically Typed** – You don’t need to declare variable types explicitly.  \n",
    "✔ **Cross-Platform** – Runs on Windows, macOS, Linux, etc.  \n",
    "✔ **Extensive Libraries** – Comes with powerful libraries like NumPy, Pandas, TensorFlow, etc.  \n",
    "✔ **Object-Oriented & Functional** – Supports multiple programming paradigms.  \n",
    "\n",
    " **What is Python Used For?**\n",
    "🔹 **Web Development** – Django, Flask  \n",
    "🔹 **Data Science & Machine Learning** – NumPy, Pandas, Scikit-learn, TensorFlow  \n",
    "🔹 **Automation & Scripting** – Automating repetitive tasks  \n",
    "🔹 **Game Development** – Pygame  \n",
    "🔹 **Cybersecurity** – Ethical hacking, penetration testing  \n",
    "🔹 **IoT & Embedded Systems** – Raspberry Pi projects  \n"
   ]
  },
  {
   "cell_type": "markdown",
   "metadata": {},
   "source": [
    "### Q.4  Write a Python program to check if a number is positive, negative or zero."
   ]
  },
  {
   "cell_type": "code",
   "execution_count": 112,
   "metadata": {},
   "outputs": [
    {
     "name": "stdout",
     "output_type": "stream",
     "text": [
      "The number is positive.\n"
     ]
    }
   ],
   "source": [
    "\n",
    "num = float(input(\"Enter a number: \"))\n",
    "\n",
    "\n",
    "if num > 0:\n",
    "    print(\"The number is positive.\")\n",
    "elif num < 0:\n",
    "    print(\"The number is negative.\")\n",
    "else:\n",
    "    print(\"The number is zero.\")\n"
   ]
  },
  {
   "cell_type": "markdown",
   "metadata": {},
   "source": [
    "### Q.5 Write a Python program to get the Factorial number of given numbers.\n"
   ]
  },
  {
   "cell_type": "code",
   "execution_count": 114,
   "metadata": {},
   "outputs": [
    {
     "name": "stdout",
     "output_type": "stream",
     "text": [
      "5 's Factorial number is :  120\n"
     ]
    }
   ],
   "source": [
    "num_1 = int(input(\"Enter a number : \"))\n",
    "fac = 1\n",
    "\n",
    "for i in range(1,num_1+1):\n",
    "    fac*=i\n",
    "\n",
    "print(num_1,\"'s Factorial number is : \",fac)"
   ]
  },
  {
   "cell_type": "markdown",
   "metadata": {},
   "source": [
    "### Q.6  Write a Python program to get the Fibonacci series of given range."
   ]
  },
  {
   "cell_type": "code",
   "execution_count": 151,
   "metadata": {},
   "outputs": [
    {
     "name": "stdout",
     "output_type": "stream",
     "text": [
      "[0, 1, 1, 2, 3, 5, 8, 13, 21, 34]\n"
     ]
    }
   ],
   "source": [
    "f = []\n",
    "x = 0\n",
    "y = 1\n",
    "for i in range(10):\n",
    "    f.append(x)\n",
    "    x,y = y, x+y\n",
    "print(f)"
   ]
  },
  {
   "cell_type": "markdown",
   "metadata": {},
   "source": [
    "### Q.7 How memory is managed in Python? \n",
    "\n",
    "**How Memory is Managed in Python (Simple Explanation)**  \n",
    "\n",
    "Python **automatically manages memory**, so you don’t have to worry about allocating or freeing memory manually. Here’s how it works:\n",
    "\n",
    " **1. Memory is Stored in a Private Heap**  \n",
    "- All **variables, objects, and data** are stored in a special memory area called the **heap**.\n",
    "- This memory is **managed by Python itself**, so you can’t access it directly.\n",
    "\n",
    "**2. Python Uses Garbage Collection**  \n",
    "- Python **automatically deletes** objects that are no longer needed.\n",
    "- It does this using **reference counting** (it keeps track of how many times an object is being used).\n",
    "- If an object has **zero references**, Python removes it from memory.\n",
    "\n",
    "**3. Example of Memory Management**  \n",
    "```python\n",
    "a = [1, 2, 3]  # List is created in memory\n",
    "b = a  # 'b' also refers to the same list (reference count increases)\n",
    "\n",
    "del a  # 'b' still refers to the list, so it is not deleted\n",
    "del b  # Now the list has no references, so Python deletes it automatically\n",
    "```\n",
    "\n",
    " **4. Python Can Handle Circular References**  \n",
    "- If objects reference each other (circular references), Python’s **garbage collector** finds and removes them to free memory.\n",
    "\n",
    " **5. Memory Optimization in Python**  \n",
    "- **Use generators** instead of lists to save memory.\n",
    "- **Use `del` keyword** to manually delete large objects if they are no longer needed.\n",
    "- **Use `gc.collect()`** to force Python to clean up unused memory.\n",
    "\n",
    " **In Short:**  \n",
    "Python **automatically** takes care of memory using **reference counting** and **garbage collection**, so you can focus on writing code without worrying about memory management! 🚀  \n"
   ]
  },
  {
   "cell_type": "markdown",
   "metadata": {},
   "source": [
    "### Q.8 What is the purpose continuing statement in python?     \n",
    "\n",
    "### **Purpose of `continue` Statement in Python**  \n",
    "\n",
    "The `continue` statement in Python is used **inside loops** to **skip the current iteration** and move to the next one **without exiting the loop**.\n",
    "\n",
    "---\n",
    "\n",
    "**How `continue` Works?**\n",
    "- When Python encounters `continue`, it **skips** the remaining code in the current loop iteration.\n",
    "- The loop **does not stop**; instead, it jumps to the next iteration.\n",
    "\n",
    "---\n",
    "\n",
    "**Example 1: Skipping Even Numbers**\n",
    "```python\n",
    "for num in range(1, 6):\n",
    "    if num % 2 == 0:\n",
    "        continue  # Skip even numbers\n",
    "    print(num)\n",
    "```\n",
    " **Output:**\n",
    "```\n",
    "1\n",
    "3\n",
    "5\n",
    "```\n",
    "**Explanation:**  \n",
    "- When `num` is **even** (2, 4), `continue` skips the `print(num)` statement.\n",
    "- It only prints **odd numbers**.\n",
    "\n",
    "\n",
    " **Example 2: Skipping a Specific Character in a String**\n",
    "```python\n",
    "word = \"Python\"\n",
    "for letter in word:\n",
    "    if letter == \"h\":\n",
    "        continue  # Skip 'h'\n",
    "    print(letter, end=\" \")\n",
    "```\n",
    "**Output:**\n",
    "```\n",
    "P y t o n\n",
    "```\n",
    "**Explanation:**  \n",
    "- The loop skips **'h'** and continues printing the other letters.\n",
    "\n",
    " **When to Use `continue`?**\n",
    "- To **skip** specific values in a loop.\n",
    "- To **avoid unnecessary calculations** in an iteration.\n",
    "- To improve **efficiency** by reducing extra checks.\n",
    "\n",
    "Would you like another example? 🚀"
   ]
  },
  {
   "cell_type": "markdown",
   "metadata": {},
   "source": [
    "### Q.9 Write python program that swap two number with temp variable and without temp variable. "
   ]
  },
  {
   "cell_type": "code",
   "execution_count": 152,
   "metadata": {},
   "outputs": [
    {
     "name": "stdout",
     "output_type": "stream",
     "text": [
      "Before swapping \n",
      "Number 1 :  4\n",
      "Number 2 :  5\n",
      "\n",
      "Without using temoprary variable \n",
      "Number 1 :  5\n",
      "Number 2 :  4\n",
      "\n",
      "With using temporary variable \n",
      "Number 1 :  4\n",
      "Number 2 :  5\n"
     ]
    }
   ],
   "source": [
    "num1 = int(input(\"Enter a number : \"))\n",
    "num2 = int(input(\"Enter second numebr : \"))\n",
    "\n",
    "print(\"Before swapping \")\n",
    "print(\"Number 1 : \",num1)\n",
    "print(\"Number 2 : \",num2)\n",
    "\n",
    "print()\n",
    "\n",
    "print(\"Without using temoprary variable \")\n",
    "\n",
    "num1 = num1 + num2\n",
    "num2 = num1 - num2\n",
    "num1 = num1 - num2\n",
    "\n",
    "print(\"Number 1 : \",num1)\n",
    "print(\"Number 2 : \",num2)\n",
    "\n",
    "print()\n",
    "\n",
    "print(\"With using temporary variable \")\n",
    "\n",
    "temp = 0\n",
    "\n",
    "temp = num1\n",
    "num1 = num2\n",
    "num2 = temp\n",
    "\n",
    "print(\"Number 1 : \",num1)\n",
    "print(\"Number 2 : \",num2)\n",
    "\n"
   ]
  },
  {
   "cell_type": "markdown",
   "metadata": {},
   "source": [
    "### Q.10 Write a Python program to find whether a given number is even or odd, print out an appropriate message to the user. "
   ]
  },
  {
   "cell_type": "code",
   "execution_count": 153,
   "metadata": {},
   "outputs": [
    {
     "name": "stdout",
     "output_type": "stream",
     "text": [
      "7 is odd number\n"
     ]
    }
   ],
   "source": [
    "num_1 = int(input(\"Enter a number : \"))\n",
    "if num_1 %2 == 0:\n",
    "    print(f\"{num_1} is even number \")\n",
    "else:\n",
    "    print(f\"{num_1} is odd number\")"
   ]
  },
  {
   "cell_type": "markdown",
   "metadata": {},
   "source": [
    "### Q.11 Write a Python program to test whether a passed letter is a vowel or not. "
   ]
  },
  {
   "cell_type": "code",
   "execution_count": 154,
   "metadata": {},
   "outputs": [
    {
     "name": "stdout",
     "output_type": "stream",
     "text": [
      "Not a vowel\n"
     ]
    }
   ],
   "source": [
    "letter = input(\"Enter any letter : \")\n",
    "\n",
    "vowel = 'aeiouAEIOU'\n",
    "\n",
    "if len(letter) > 0 and letter.isalpha():\n",
    "    if(letter in vowel):\n",
    "        print(f'{letter} is vowel')\n",
    "    else:\n",
    "        print(\"Not a vowel\")\n",
    "else:\n",
    "    print(\"Enter valid letter ! \")"
   ]
  },
  {
   "cell_type": "markdown",
   "metadata": {},
   "source": [
    "### Q.12 Write a Python program to sum of three given integers. However, if two values are equal sum will be zero."
   ]
  },
  {
   "cell_type": "code",
   "execution_count": 52,
   "metadata": {},
   "outputs": [
    {
     "name": "stdout",
     "output_type": "stream",
     "text": [
      "Sum: 20\n"
     ]
    }
   ],
   "source": [
    "def custom_sum(a, b, c):\n",
    "    if a == b or b == c or a == c:\n",
    "        return 0\n",
    "    else:\n",
    "        return a + b + c\n",
    "\n",
    "num_01 = int(input(\"Enter first number: \"))\n",
    "num_02 = int(input(\"Enter second number: \"))\n",
    "num_03 = int(input(\"Enter third number: \"))\n",
    "\n",
    "print(\"Sum:\", custom_sum(num_01, num_02, num_03))\n"
   ]
  },
  {
   "cell_type": "markdown",
   "metadata": {},
   "source": [
    "### Q.13 Write a Python program that will return true if the two given integer values are equal or their sum or difference is 5. "
   ]
  },
  {
   "cell_type": "code",
   "execution_count": 58,
   "metadata": {},
   "outputs": [
    {
     "data": {
      "text/plain": [
       "False"
      ]
     },
     "execution_count": 58,
     "metadata": {},
     "output_type": "execute_result"
    }
   ],
   "source": [
    "def check(a1,b1):\n",
    "    if a1 == b1 or a1+b1 == 5 or a1-b1 == 5:\n",
    "        return True\n",
    "    else:\n",
    "        return False\n",
    "    \n",
    "a1 = int(input(\"Enter first number : \"))\n",
    "a2 = int(input(\"Enter second number : \"))\n",
    "\n",
    "check(a1,a2)\n",
    "        "
   ]
  },
  {
   "cell_type": "markdown",
   "metadata": {},
   "source": [
    "### Q.14 Write a python program to sum of the first n positive integers. "
   ]
  },
  {
   "cell_type": "code",
   "execution_count": 2,
   "metadata": {},
   "outputs": [
    {
     "name": "stdout",
     "output_type": "stream",
     "text": [
      "Sum of n number is :  36\n"
     ]
    }
   ],
   "source": [
    "_a = int(input(\"Enter positive number : \"))\n",
    "\n",
    "sum_a = _a * (_a + 1) // 2\n",
    "\n",
    "print(\"Sum of n number is : \",sum_a)"
   ]
  },
  {
   "cell_type": "markdown",
   "metadata": {},
   "source": [
    "### Q.15  Write a Python program to calculate the length of a string"
   ]
  },
  {
   "cell_type": "code",
   "execution_count": 4,
   "metadata": {},
   "outputs": [
    {
     "name": "stdout",
     "output_type": "stream",
     "text": [
      "length of string :  8\n"
     ]
    }
   ],
   "source": [
    "st = input(\"Enter a string : \")\n",
    "print(\"length of string : \",len(st))"
   ]
  },
  {
   "cell_type": "markdown",
   "metadata": {},
   "source": [
    "### Q.16 Write a Python program to count the number of characters (character frequency) in a string "
   ]
  },
  {
   "cell_type": "code",
   "execution_count": 8,
   "metadata": {},
   "outputs": [
    {
     "name": "stdout",
     "output_type": "stream",
     "text": [
      "Character frequency in the string:\n",
      "'R': 1\n",
      "'a': 1\n",
      "'m': 1\n"
     ]
    }
   ],
   "source": [
    "string = input(\"Enter a string: \")\n",
    "\n",
    "char_count = {}\n",
    "\n",
    "for char in string:\n",
    "    if char in char_count:\n",
    "        char_count[char] += 1\n",
    "    else:\n",
    "        char_count[char] = 1\n",
    "\n",
    "# Displaying the result\n",
    "print(\"Character frequency in the string:\")\n",
    "for char, count in char_count.items():\n",
    "    print(f\"'{char}': {count}\")\n"
   ]
  },
  {
   "cell_type": "markdown",
   "metadata": {},
   "source": [
    "###  Q.17 What are negative indexes and why are they used?\n",
    "\n",
    "**Negative Indexes in Python**\n",
    "In Python, negative indexes are used to access elements from the end of a sequence, such as lists, tuples, or strings. Instead of counting from the beginning (`0, 1, 2, ...`), negative indexing starts from `-1`, which represents the last element, `-2` for the second last, and so on.\n",
    "\n",
    "**Why Use Negative Indexing?**\n",
    "1. **Easier Access to Last Elements** – Instead of writing `len(lst) - 1`, you can simply use `lst[-1]`.\n",
    "2. **More Readable Code** – Negative indexing makes code more concise and intuitive.\n",
    "3. **Avoids Errors** – No need to calculate lengths manually when accessing elements from the end.\n",
    "\n",
    " **Examples of Negative Indexing**\n",
    "\n",
    " **1. Using Negative Indexing with a List**\n",
    "```python\n",
    "numbers = [10, 20, 30, 40, 50]\n",
    "\n",
    "print(numbers[-1])  # Output: 50  (Last element)\n",
    "print(numbers[-2])  # Output: 40  (Second last element)\n",
    "```\n",
    "\n",
    "**2. Using Negative Indexing with a String**\n",
    "```python\n",
    "text = \"Python\"\n",
    "\n",
    "print(text[-1])  # Output: 'n'  (Last character)\n",
    "print(text[-3])  # Output: 'h'  (Third last character)\n",
    "```\n",
    "\n",
    " **3. Using Negative Indexing in Slicing**\n",
    "```python\n",
    "nums = [1, 2, 3, 4, 5, 6, 7]\n",
    "\n",
    "print(nums[-3:])  # Output: [5, 6, 7]  (Last 3 elements)\n",
    "print(nums[:-2])  # Output: [1, 2, 3, 4, 5] (All except last 2)\n",
    "```\n",
    "\n",
    "**Summary**\n",
    "- Negative indexes allow easy access to elements from the end.\n",
    "- `-1` represents the last element, `-2` the second last, and so on.\n",
    "- Useful for working with lists, strings, and slicing operations.\n",
    "\n",
    "Let me know if you need more clarification! 🚀"
   ]
  },
  {
   "cell_type": "markdown",
   "metadata": {},
   "source": [
    "### Q.18  Write a Python program to count occurrences of a substring in a string."
   ]
  },
  {
   "cell_type": "code",
   "execution_count": 7,
   "metadata": {},
   "outputs": [
    {
     "name": "stdout",
     "output_type": "stream",
     "text": [
      "The substring 'am' appears 1 times in the given string.\n"
     ]
    }
   ],
   "source": [
    "main_string = input(\"Enter the main string: \")\n",
    "substring = input(\"Enter the substring to count: \")\n",
    "\n",
    "count = main_string.count(substring)\n",
    "\n",
    "print(f\"The substring '{substring}' appears {count} times in the given string.\")"
   ]
  },
  {
   "cell_type": "markdown",
   "metadata": {},
   "source": [
    "### Q.19 Write a Python program to count the occurrences of each word in a given sentance "
   ]
  },
  {
   "cell_type": "code",
   "execution_count": 44,
   "metadata": {},
   "outputs": [
    {
     "name": "stdout",
     "output_type": "stream",
     "text": [
      "Occurrence of each word in a sentance : \n",
      "Hello : 1\n",
      "hi : 2\n",
      "how : 1\n",
      "are : 1\n",
      "you : 1\n"
     ]
    }
   ],
   "source": [
    "st = input(\"Enter a string : \")\n",
    "\n",
    "words = st.split()\n",
    "word_count = {}\n",
    "\n",
    "for word in words:\n",
    "    if word in word_count:\n",
    "        word_count[word] += 1\n",
    "    else:\n",
    "        word_count[word] = 1\n",
    "\n",
    "print(\"Occurrence of each word in a sentance : \")\n",
    "for word,count in word_count.items():\n",
    "    print(f\"{word} : {count}\")"
   ]
  },
  {
   "cell_type": "markdown",
   "metadata": {},
   "source": [
    "### Q.20 Write a Python program to get a single string from two given strings, separated by a space and swap the first two characters of each string. "
   ]
  },
  {
   "cell_type": "code",
   "execution_count": null,
   "metadata": {},
   "outputs": [
    {
     "name": "stdout",
     "output_type": "stream",
     "text": [
      "efcd abgh\n"
     ]
    }
   ],
   "source": [
    "str = input(\"Enter first String : \")\n",
    "str2 =input(\"Enter second string : \")\n",
    "\n",
    "result = str + '' + str2\n",
    "\n",
    "\n",
    "newstr = ''\n",
    "newstr2 = ''\n",
    "swap_word = ''\n",
    "\n",
    "for i in str:\n",
    "     if i == str[2]:\n",
    "        break\n",
    "     else:    \n",
    "         newstr+=i\n",
    "\n",
    "for i in str2:\n",
    "     if i == str2[2]:\n",
    "        break\n",
    "     else:    \n",
    "         newstr2+=i\n",
    "\n",
    "swap_word = newstr2\n",
    "newstr2 = newstr\n",
    "newstr = swap_word\n",
    "\n",
    "print(newstr + str[2:] + ' ' + newstr2 + str2[2:])\n"
   ]
  },
  {
   "cell_type": "markdown",
   "metadata": {},
   "source": [
    "###  Q.21 Write a Python program to add 'in' at the end of a given string (length should be at least 3). If the given string already ends with 'ing' then \n",
    "### add 'ly' instead if the string length of the given string is less than 3, leave it unchanged. "
   ]
  },
  {
   "cell_type": "code",
   "execution_count": 81,
   "metadata": {},
   "outputs": [
    {
     "name": "stdout",
     "output_type": "stream",
     "text": [
      "Modified string: ok\n"
     ]
    }
   ],
   "source": [
    "def modify_string(s):\n",
    "    if len(s) < 3:\n",
    "        return s\n",
    "    elif s.endswith(\"ing\"):\n",
    "        return s + \"ly\"\n",
    "    else:\n",
    "        return s + \"ing\"\n",
    "\n",
    "user_string = input(\"Enter a string: \")\n",
    "\n",
    "print(\"Modified string:\", modify_string(user_string))\n",
    "\n"
   ]
  },
  {
   "cell_type": "markdown",
   "metadata": {},
   "source": [
    "### Q.22 Write a Python function to reverses a string if its length is a multiple of 4. "
   ]
  },
  {
   "cell_type": "code",
   "execution_count": 78,
   "metadata": {},
   "outputs": [
    {
     "name": "stdout",
     "output_type": "stream",
     "text": [
      "!!!uoy era woH olleH\n"
     ]
    }
   ],
   "source": [
    "str_2 = input(\"Enter a string : \")\n",
    "length = len(str_2)\n",
    "re = str_2[::-1]\n",
    "\n",
    "if length%4==0:\n",
    "    print(re)\n",
    "else:\n",
    "    print(\"String is not multiple by 4\")\n"
   ]
  },
  {
   "cell_type": "markdown",
   "metadata": {},
   "source": [
    "### Q.23 Write a Python program to get a string made of the first 2 and the last 2 chars from a given a string. If the string length is less than 2, return \n",
    "### instead of the empty string."
   ]
  },
  {
   "cell_type": "code",
   "execution_count": 98,
   "metadata": {},
   "outputs": [
    {
     "name": "stdout",
     "output_type": "stream",
     "text": [
      "Modify string :  he ld\n"
     ]
    }
   ],
   "source": [
    "def m_s(user_string):\n",
    "    if len(user_string) > 2: \n",
    "        w1 = user_string[:2]\n",
    "        w2 = user_string[-2:]\n",
    "        return w1 + ' ' +  w2\n",
    "    else:\n",
    "        return 'Empty String'\n",
    "\n",
    "user_string = input(\"Enter String : \")\n",
    "print('Modify string : ',m_s(user_string))"
   ]
  },
  {
   "cell_type": "markdown",
   "metadata": {},
   "source": [
    "### Q.24  Write a Python function to insert a string in the middle of a string."
   ]
  },
  {
   "cell_type": "code",
   "execution_count": 111,
   "metadata": {},
   "outputs": [
    {
     "name": "stdout",
     "output_type": "stream",
     "text": [
      "Your string is: Jay Ram\n",
      "\n",
      "Updated string: Jay Shree Ram\n"
     ]
    }
   ],
   "source": [
    "user_string = input(\"Enter a string: \")\n",
    "print(\"Your string is:\", user_string)\n",
    "\n",
    "print()\n",
    "place = input(\"Enter a word that exists in your string to add another string after it: \")\n",
    "\n",
    "if place in user_string.split():\n",
    "    add_s = input(\"Enter the string to add: \")\n",
    "    \n",
    "    split_str = user_string.split()  \n",
    "    new_str = []  \n",
    "    \n",
    "    for word in split_str:\n",
    "        new_str.append(word) \n",
    "        if word == place:\n",
    "            new_str.append(add_s)  \n",
    "    \n",
    "    updated_string = \" \".join(new_str)  \n",
    "    print(\"Updated string:\", updated_string)\n",
    "else:\n",
    "    print(\"Word not found!\")\n",
    "\n"
   ]
  },
  {
   "cell_type": "markdown",
   "metadata": {},
   "source": [
    "### Q.25 What is List? How will you reverse a list?\n",
    "\n",
    " **What is a List in Python?**  \n",
    "A **list** in Python is a **mutable, ordered collection** that can store multiple items of different data types (integers, strings, floats, etc.). Lists are defined using **square brackets `[ ]`**, and elements are separated by commas.\n",
    "\n",
    "**Example of a List:**\n",
    "```python\n",
    "my_list = [10, \"Python\", 3.14, True]\n",
    "print(my_list)\n",
    "```\n",
    "**Output:**  \n",
    "```\n",
    "[10, 'Python', 3.14, True]\n",
    "```\n",
    "\n",
    "**How to Reverse a List in Python?**  \n",
    "There are multiple ways to reverse a list:\n",
    "\n",
    "**1. Using `reverse()` Method (Modifies Original List)**\n",
    "```python\n",
    "my_list = [1, 2, 3, 4, 5]\n",
    "my_list.reverse()\n",
    "print(my_list)\n",
    "```\n",
    "**Output:**  \n",
    "```\n",
    "[5, 4, 3, 2, 1]\n",
    "```\n",
    "✅ **Modifies the original list in place.**\n",
    "\n",
    "**2. Using Slicing (Creates a New Reversed List)**\n",
    "```python\n",
    "my_list = [1, 2, 3, 4, 5]\n",
    "reversed_list = my_list[::-1]\n",
    "print(reversed_list)\n",
    "```\n",
    "**Output:**  \n",
    "```\n",
    "[5, 4, 3, 2, 1]\n",
    "```\n",
    "✅ **Creates a new reversed list without modifying the original.**\n",
    "\n",
    "**3. Using `reversed()` Function (Returns an Iterator)**\n",
    "```python\n",
    "my_list = [1, 2, 3, 4, 5]\n",
    "reversed_list = list(reversed(my_list))\n",
    "print(reversed_list)\n",
    "```\n",
    "**Output:**  \n",
    "```\n",
    "[5, 4, 3, 2, 1]\n",
    "```\n",
    "✅ **Returns a new reversed list without modifying the original.**\n",
    "\n",
    "\n",
    "**Which Method Should You Use?**\n",
    "- Use `.reverse()` **if you want to modify the original list.**\n",
    "- Use `[::-1]` **or `reversed()` if you want a new reversed list.**\n"
   ]
  },
  {
   "cell_type": "markdown",
   "metadata": {},
   "source": [
    "### Q.26 How will you remove last object from a list?\n",
    "\n",
    "### **How to Remove the Last Object from a List in Python?**  \n",
    "\n",
    "Python provides multiple ways to remove the last element from a list.\n",
    "\n",
    "\n",
    " **1. Using `pop()` (Recommended)**\n",
    "```python\n",
    "my_list = [10, 20, 30, 40, 50]\n",
    "my_list.pop()  # Removes the last element\n",
    "print(my_list)\n",
    "```\n",
    "**Output:**  \n",
    "```\n",
    "[10, 20, 30, 40]\n",
    "```\n",
    " **`pop()` removes and returns the last element.** If the list is empty, it raises an **IndexError**.\n",
    "\n",
    "\n",
    " **2. Using Slicing (`[:-1]`)**\n",
    "```python\n",
    "my_list = [10, 20, 30, 40, 50]\n",
    "my_list = my_list[:-1]  # Creates a new list without the last element\n",
    "print(my_list)\n",
    "```\n",
    "**Output:**  \n",
    "```\n",
    "[10, 20, 30, 40]\n",
    "```\n",
    " **This does not modify the original list but creates a new one.**\n",
    "\n",
    "\n",
    "**3. Using `del` Statement**\n",
    "```python\n",
    "my_list = [10, 20, 30, 40, 50]\n",
    "del my_list[-1]  # Deletes the last element\n",
    "print(my_list)\n",
    "```\n",
    "**Output:**  \n",
    "```\n",
    "[10, 20, 30, 40]\n",
    "```\n",
    " **`del` removes the last element permanently.** If the list is empty, it raises an **IndexError**.\n",
    "\n",
    "**Which Method to Use?**\n",
    "- **Use `pop()`** if you want to remove and **return** the last element.\n",
    "- **Use slicing (`[:-1]`)** if you want a **new list** without modifying the original.\n",
    "- **Use `del`** if you want to delete the last element **without returning it**.\n"
   ]
  },
  {
   "cell_type": "markdown",
   "metadata": {},
   "source": [
    "### Q.27 Suppose list1 is [2, 33, 222, 14, and 25], what is list1 [1]?  \n",
    "\n",
    "Given the list:  \n",
    "```python\n",
    "list1 = [2, 33, 222, 14, 25]\n",
    "```\n",
    "When you access `list1[1]`, it retrieves the element at **index 1** (Python uses **zero-based indexing**).  \n",
    "\n",
    "### **Indexing of `list1`:**  \n",
    "```\n",
    "list1 = [2,  33,  222,  14,  25]\n",
    "Index:    0   1    2    3    4\n",
    "```\n",
    "\n",
    "So, `list1[1]` refers to **33**.\n",
    "\n",
    "### **Example in Code:**\n",
    "```python\n",
    "list1 = [2, 33, 222, 14, 25]\n",
    "print(list1[1]) \n",
    "```\n",
    "**Output:**\n",
    "```\n",
    "33\n",
    "```"
   ]
  },
  {
   "cell_type": "markdown",
   "metadata": {},
   "source": [
    "### Q.28 Differentiate between append () and extend () methods? \n",
    "\n",
    "### **Difference Between `append()` and `extend()` in Python Lists**  \n",
    "\n",
    "Both `append()` and `extend()` are used to add elements to a list, but they work differently.\n",
    "\n",
    "| **Method**  | **Functionality** | **Modifies Original List?** | **Returns?** |\n",
    "|------------|------------------|----------------------------|--------------|\n",
    "| `append(x)` | Adds a **single element** to the end of the list (even if `x` is a list) |  Yes |  None |\n",
    "| `extend(iterable)` | Adds **each element** from an iterable (list, tuple, set, etc.) to the list |  Yes  |  None  |\n",
    "\n",
    "**1. `append()` Example (Adds as a Single Object)**\n",
    "```python\n",
    "list1 = [1, 2, 3]\n",
    "list1.append([4, 5])  # Adds the entire list as a single element\n",
    "print(list1)\n",
    "```\n",
    "**Output:**\n",
    "```\n",
    "[1, 2, 3, [4, 5]]\n",
    "```\n",
    "✅ **The entire `[4, 5]` is treated as a single element inside `list1`.**\n",
    "\n",
    " **2. `extend()` Example (Adds Elements Individually)**\n",
    "```python\n",
    "list2 = [1, 2, 3]\n",
    "list2.extend([4, 5])  # Adds elements one by one\n",
    "print(list2)\n",
    "```\n",
    "**Output:**\n",
    "```\n",
    "[1, 2, 3, 4, 5]\n",
    "```\n",
    "✅ **`extend()` adds individual elements instead of a nested list.**\n",
    "\n",
    "**Key Differences:**\n",
    "1. **`append()`** → Adds a **single item (including another list as a sublist)**.\n",
    "2. **`extend()`** → Adds **each element** from an iterable individually.\n",
    "3. **`append()` increases the list length by 1**, while **`extend()` increases it by the number of elements added**."
   ]
  },
  {
   "cell_type": "markdown",
   "metadata": {},
   "source": [
    "### Q.29 Write a Python function to get the largest number, smallest num and sum of all from a list. \n"
   ]
  },
  {
   "cell_type": "code",
   "execution_count": null,
   "metadata": {},
   "outputs": [
    {
     "name": "stdout",
     "output_type": "stream",
     "text": [
      "6\n",
      "1\n",
      "21\n"
     ]
    }
   ],
   "source": [
    "def largest_number(num_list):\n",
    "    print(max(num_list))\n",
    "\n",
    "def smallest_number(num_list):\n",
    "    print(min(num_list))\n",
    "\n",
    "def sum_of_all(num_list):\n",
    "    print(sum(num_list))\n",
    "\n",
    "num_list = [1,2,3,4,5,6]\n",
    "largest_number(\"Largest number of list : \",num_list)\n",
    "smallest_number(\"Smallest number of list : \",num_list)\n",
    "sum_of_all(\"Sum of all number : \",num_list)\n",
    "0"
   ]
  },
  {
   "cell_type": "markdown",
   "metadata": {},
   "source": [
    "### Q.30 How will you compare two lists?\n",
    "\n",
    "There are different ways to compare two lists based on **order, elements, and content**. Below are the main approaches:\n",
    "\n",
    "---\n",
    "\n",
    " **1. Using `==` (Checks Both Order & Elements)**\n",
    " **Compares both the order and the elements of the lists.**  \n",
    "\n",
    "```python\n",
    "list1 = [1, 2, 3]\n",
    "list2 = [1, 2, 3]\n",
    "list3 = [3, 2, 1]\n",
    "\n",
    "print(list1 == list2)  # True (Same elements & order)\n",
    "print(list1 == list3)  # False (Different order)\n",
    "```\n",
    "**Output:**\n",
    "```\n",
    "True\n",
    "False\n",
    "```\n",
    "---\n",
    "\n",
    " **2. Using `sorted()` (Checks Elements Regardless of Order)**\n",
    " **Compares lists without considering order.**  \n",
    "\n",
    "```python\n",
    "list1 = [1, 2, 3]\n",
    "list2 = [3, 2, 1]\n",
    "\n",
    "print(sorted(list1) == sorted(list2))  # True (Same elements, different order)\n",
    "```\n",
    "**Output:**\n",
    "```\n",
    "True\n",
    "```\n",
    "\n",
    " **3. Using `set()` (Checks Unique Elements, Ignores Duplicates & Order)**\n",
    " **Best for checking if two lists have the same unique elements, ignoring duplicates.**  \n",
    "\n",
    "```python\n",
    "list1 = [1, 2, 3, 3]\n",
    "list2 = [3, 2, 1, 1]\n",
    "\n",
    "print(set(list1) == set(list2))  # True (Same unique elements)\n",
    "```\n",
    "**Output:**\n",
    "```\n",
    "True\n",
    "```\n",
    "**Limitation**: Does **not** consider duplicates. `[1, 1, 2, 3]` and `[1, 2, 3]` are considered the same.\n",
    "\n",
    " **4. Using `collections.Counter()` (Checks Elements with Duplicates, Ignores Order)**\n",
    "✅ **Best when order does not matter, but duplicates do.**  \n",
    "\n",
    "```python\n",
    "from collections import Counter\n",
    "\n",
    "list1 = [1, 2, 2, 3]\n",
    "list2 = [3, 2, 1, 2]\n",
    "\n",
    "print(Counter(list1) == Counter(list2))  # True (Same elements & count)\n",
    "```\n",
    "**Output:**\n",
    "```\n",
    "True\n",
    "```"
   ]
  },
  {
   "cell_type": "markdown",
   "metadata": {},
   "source": [
    "### Q.31  Write a Python program to count the number of strings where the string  length is 2 or more and the first and last character are same from a given list of strings."
   ]
  },
  {
   "cell_type": "code",
   "execution_count": 173,
   "metadata": {},
   "outputs": [
    {
     "name": "stdout",
     "output_type": "stream",
     "text": [
      "YEY\n",
      "First Y character and last Y character are same \n"
     ]
    }
   ],
   "source": [
    "lst = input(\"Enter String : \")\n",
    "\n",
    "if (len(lst) >= 2):\n",
    "    if(lst[0] == lst[-1:]):\n",
    "        print(lst)\n",
    "        print(f\"First {lst[0]} character and last {lst[-1:]} character are same \")\n",
    "    else:\n",
    "        print(\"Not same !\")\n",
    "        \n",
    "else:\n",
    "    print(\"Length is too small !\")"
   ]
  },
  {
   "cell_type": "markdown",
   "metadata": {},
   "source": [
    "### Q.32  Write a Python program to remove duplicates from a list."
   ]
  },
  {
   "cell_type": "code",
   "execution_count": 181,
   "metadata": {},
   "outputs": [
    {
     "name": "stdout",
     "output_type": "stream",
     "text": [
      "List is :\n",
      " [1, 2, 2, 3, 4]\n",
      "\n",
      "Uniqe list is :\n",
      " [1, 2, 3, 4]\n"
     ]
    }
   ],
   "source": [
    "lst = []\n",
    "r = int(input(\"Enter the range of list : \"))\n",
    "\n",
    "for i in range(r):\n",
    "    i = int(input(f\"Enter index {i} number : \"))\n",
    "    lst.append(i)\n",
    "\n",
    "print(\"List is :\\n\",lst)\n",
    "print()\n",
    "uniqe = []\n",
    "\n",
    "for j in lst:\n",
    "    if j not in uniqe:\n",
    "        uniqe.append(j)\n",
    "\n",
    "print(\"Uniqe list is :\\n\",uniqe)\n"
   ]
  },
  {
   "cell_type": "markdown",
   "metadata": {},
   "source": [
    "### Q.33 Write a Python program to check a list is empty or not. "
   ]
  },
  {
   "cell_type": "code",
   "execution_count": 195,
   "metadata": {},
   "outputs": [
    {
     "name": "stdout",
     "output_type": "stream",
     "text": [
      "List is empty\n"
     ]
    }
   ],
   "source": [
    "lst = []\n",
    "r = int(input(\"Enter the range of list : \"))\n",
    "\n",
    "for i in range(r):\n",
    "    i = int(input(f\"Enter index {i} number : \"))\n",
    "    lst.append(i)\n",
    "\n",
    "if len(lst) == 0:\n",
    "    print(\"List is empty\")\n",
    "else:\n",
    "    print(lst)"
   ]
  },
  {
   "cell_type": "markdown",
   "metadata": {},
   "source": [
    "### Q.34  Write a Python function that takes two lists and returns true if they have at least one common member."
   ]
  },
  {
   "cell_type": "code",
   "execution_count": 213,
   "metadata": {},
   "outputs": [
    {
     "name": "stdout",
     "output_type": "stream",
     "text": [
      "Add elemenst in second list : \n",
      "[1, 2]\n",
      "[1, 4, 5]\n",
      "Duplicate value are included is as :\n",
      " [1]\n"
     ]
    }
   ],
   "source": [
    "lst = []\n",
    "r = int(input(\"Enter the range of list : \"))\n",
    "\n",
    "for i in range(r):\n",
    "    i = int(input(f\"Enter index {i} number : \"))\n",
    "    lst.append(i)\n",
    "\n",
    "\n",
    "print(\"Add elemenst in second list : \")\n",
    "\n",
    "lst2 = []\n",
    "r2 = int(input(\"Enter the range of list : \"))\n",
    "\n",
    "for i in range(r2):\n",
    "    i = int(input(f\"Enter index {i} number : \"))\n",
    "    lst2.append(i)\n",
    "\n",
    "print(lst)\n",
    "print(lst2)\n",
    "\n",
    "dupli = []\n",
    "\n",
    "for item in lst:\n",
    "    if item in lst2:\n",
    "        dupli.append(item)\n",
    "\n",
    "if dupli == []:\n",
    "    print(\"List has no duplicate value !\")\n",
    "else:\n",
    "    print(\"Duplicate value are included is as :\\n\",dupli)"
   ]
  },
  {
   "cell_type": "markdown",
   "metadata": {},
   "source": [
    "### Q.35 Write a Python program to generate and print a list of first and last 5 elements where the values are square of numbers between 1 and 30. "
   ]
  },
  {
   "cell_type": "code",
   "execution_count": 232,
   "metadata": {},
   "outputs": [
    {
     "name": "stdout",
     "output_type": "stream",
     "text": [
      "First 5 squared numbers: [1, 4, 9, 16, 25]\n",
      "Last 5 squared numbers: [676, 729, 784, 841, 900]\n"
     ]
    }
   ],
   "source": [
    "def generate_squares():\n",
    "    squares = [x**2 for x in range(1, 31)]  \n",
    "    first_five = squares[:5] \n",
    "    last_five = squares[-5:] \n",
    "    return first_five, last_five\n",
    "\n",
    "first, last = generate_squares()\n",
    "\n",
    "print(\"First 5 squared numbers:\", first)\n",
    "print(\"Last 5 squared numbers:\", last)\n"
   ]
  },
  {
   "cell_type": "markdown",
   "metadata": {},
   "source": [
    "### Q.36 Write a Python function that takes a list and returns a new list with unique elements of the first list."
   ]
  },
  {
   "cell_type": "code",
   "execution_count": null,
   "metadata": {},
   "outputs": [
    {
     "name": "stdout",
     "output_type": "stream",
     "text": [
      "Unique elements: [1, 2, 3, 4, 5, 6, 7]\n"
     ]
    }
   ],
   "source": [
    "def unique_v(lst):\n",
    "    u_e = []\n",
    "    for i in lst:\n",
    "        if i in u_e:\n",
    "            u_e.append(i)\n",
    "    return u_e\n",
    "\n",
    "lst = [1,2,3,4,4,5]\n",
    "unique_v(lst)\n"
   ]
  },
  {
   "cell_type": "markdown",
   "metadata": {},
   "source": [
    "### Q.37 Write a Python program to convert a list of characters into a string."
   ]
  },
  {
   "cell_type": "code",
   "execution_count": 244,
   "metadata": {},
   "outputs": [
    {
     "data": {
      "text/plain": [
       "'abc'"
      ]
     },
     "execution_count": 244,
     "metadata": {},
     "output_type": "execute_result"
    }
   ],
   "source": [
    "lst = ['a','b','c']\n",
    "\n",
    "new_s = ''\n",
    "for i in lst:\n",
    "    new_s += i\n",
    "\n",
    "new_s"
   ]
  },
  {
   "cell_type": "markdown",
   "metadata": {},
   "source": [
    "###  Q.38 Write a Python program to select an item randomly from a list. "
   ]
  },
  {
   "cell_type": "code",
   "execution_count": 251,
   "metadata": {},
   "outputs": [
    {
     "name": "stdout",
     "output_type": "stream",
     "text": [
      "Randomly selected item: AI\n"
     ]
    }
   ],
   "source": [
    "import random\n",
    "\n",
    "def get_random_item(lst):\n",
    "    return random.choice(lst)  \n",
    "\n",
    "my_list = [10, 20, 30, 40, 50, \"Python\", \"AI\", \"Hello\"]\n",
    "random_item = get_random_item(my_list)\n",
    "\n",
    "print(\"Randomly selected item:\", random_item)\n",
    "\n"
   ]
  },
  {
   "cell_type": "markdown",
   "metadata": {},
   "source": []
  },
  {
   "cell_type": "markdown",
   "metadata": {},
   "source": [
    "### Q.39 Write a Python program to find the second smallest number in a list."
   ]
  },
  {
   "cell_type": "code",
   "execution_count": 257,
   "metadata": {},
   "outputs": [
    {
     "name": "stdout",
     "output_type": "stream",
     "text": [
      "Second Smallest number is :  3\n"
     ]
    }
   ],
   "source": [
    "def second_smallest(lst):\n",
    "    print(\"Second Smallest number is : \",min(lst)+ 1)\n",
    "\n",
    "lst = [40,50,90,10,2,3]\n",
    "second_smallest(lst)"
   ]
  },
  {
   "cell_type": "markdown",
   "metadata": {},
   "source": [
    "### Q.40 Write a Python program to get unique values from a list"
   ]
  },
  {
   "cell_type": "code",
   "execution_count": 1,
   "metadata": {},
   "outputs": [
    {
     "name": "stdout",
     "output_type": "stream",
     "text": [
      "1\n",
      "2\n",
      "3\n",
      "4\n",
      "4\n",
      "5\n"
     ]
    }
   ],
   "source": [
    "def unique_e(lst):\n",
    "    for i in lst:\n",
    "        if i not in lst:\n",
    "            print(i)\n",
    "        else:\n",
    "            print(i)\n",
    "\n",
    "\n",
    "lst = [1,2,3,4,4,5]\n",
    "unique_e(lst)"
   ]
  },
  {
   "cell_type": "markdown",
   "metadata": {},
   "source": [
    "### Q.41 Write a Python program to check whether a list contains a sub list"
   ]
  },
  {
   "cell_type": "code",
   "execution_count": 11,
   "metadata": {},
   "outputs": [
    {
     "name": "stdout",
     "output_type": "stream",
     "text": [
      "The main list contains the sublist.\n"
     ]
    }
   ],
   "source": [
    "def contains_sublist(main_list, sub_list):\n",
    "    # Convert lists to strings for easy substring search\n",
    "    main_str = ','.join(map(str, main_list))\n",
    "    sub_str = ','.join(map(str, sub_list))\n",
    "\n",
    "    return sub_str in main_str\n",
    "\n",
    "# Example usage\n",
    "main_list = [1, 2, 3, 4, 5, 6]\n",
    "sub_list = [3, 4, 5]\n",
    "\n",
    "if contains_sublist(main_list, sub_list):\n",
    "    print(\"The main list contains the sublist.\")\n",
    "else:\n",
    "    print(\"The main list does not contain the sublist.\")\n"
   ]
  },
  {
   "cell_type": "markdown",
   "metadata": {},
   "source": [
    "### Q.42 Write a Python program to split a list into different variables. "
   ]
  },
  {
   "cell_type": "code",
   "execution_count": 14,
   "metadata": {},
   "outputs": [
    {
     "name": "stdout",
     "output_type": "stream",
     "text": [
      "<class 'int'>\n",
      "<class 'bool'>\n",
      "<class 'str'>\n",
      "<class 'float'>\n"
     ]
    }
   ],
   "source": [
    "lst = [1,True,'Hari',6.5]\n",
    "\n",
    "for i in lst:\n",
    "    print(type(i))"
   ]
  },
  {
   "cell_type": "markdown",
   "metadata": {},
   "source": [
    "### Q.43 What is tuple? Difference between list and tuple. \n",
    "\n",
    "**Tuple in Python**  \n",
    "A **tuple** is an **immutable** (unchangeable) ordered collection of elements. It allows storing multiple items in a single variable. Tuples are defined using **parentheses** `()`.\n",
    "\n",
    " **Example of a Tuple:**\n",
    "```python\n",
    "my_tuple = (1, 2, 3, \"hello\", 4.5)\n",
    "print(my_tuple)  # Output: (1, 2, 3, 'hello', 4.5)\n",
    "```\n",
    "\n",
    "**Difference Between List and Tuple**  \n",
    "\n",
    "| Feature       | **List** (`list`) | **Tuple** (`tuple`) |\n",
    "|--------------|------------------|------------------|\n",
    "| **Mutability** | ✅ Mutable (can be changed) | ❌ Immutable (cannot be changed) |\n",
    "| **Syntax** | `[]` (Square brackets) | `()` (Parentheses) |\n",
    "| **Performance** | Slower (due to mutability) | Faster (due to immutability) |\n",
    "| **Memory Usage** | Uses more memory | Uses less memory |\n",
    "| **Methods** | Many built-in methods like `.append()`, `.remove()` | Fewer methods (only `count()` and `index()`) |\n",
    "| **Use Case** | When you need a dynamic, changeable collection | When you need a fixed, constant collection |\n",
    "| **Iteration Speed** | Slower | Faster |\n",
    "\n",
    "**Example to Show the Difference**  \n",
    "\n",
    "```python\n",
    "# List (Mutable)\n",
    "my_list = [1, 2, 3]\n",
    "my_list.append(4)  # Allowed\n",
    "print(my_list)  # Output: [1, 2, 3, 4]\n",
    "\n",
    "# Tuple (Immutable)\n",
    "my_tuple = (1, 2, 3)\n",
    "my_tuple[1] = 5  # ❌ Error: Tuples do not support item assignment\n",
    "```\n",
    "**When to Use a List vs. a Tuple?**\n",
    "**Use a list** when you need to modify, update, or remove elements.  \n",
    "**Use a tuple** when you want to store fixed data that should not change (e.g., coordinates, days of the week).  \n"
   ]
  },
  {
   "cell_type": "markdown",
   "metadata": {},
   "source": [
    "### Q.44 Write a Python program to create a tuple with different data types."
   ]
  },
  {
   "cell_type": "code",
   "execution_count": 22,
   "metadata": {},
   "outputs": [
    {
     "name": "stdout",
     "output_type": "stream",
     "text": [
      "Tuple with different data types : (1, False, 7.0, (4, 'Hello', True), 6.1, {'Data': 100, 'Ratio': 1.5}, [3.5, 'World'])\n",
      "<class 'tuple'>\n",
      "<class 'tuple'>\n",
      "<class 'tuple'>\n",
      "<class 'tuple'>\n",
      "<class 'tuple'>\n",
      "<class 'tuple'>\n",
      "<class 'tuple'>\n"
     ]
    }
   ],
   "source": [
    "tpl = (1,False,7.0,(4,'Hello',True),6.1,{'Data' : 100,'Ratio' : 1.50},[3.5,'World'])\n",
    "print(\"Tuple with different data types :\",tpl)\n",
    "\n",
    "for i in tpl:\n",
    "    print(f,'Elements {i} Type is :{type(tpl)} ')"
   ]
  },
  {
   "cell_type": "markdown",
   "metadata": {},
   "source": [
    "### Q.45 Write a Python program to unzip a list of tuples into individual lists."
   ]
  },
  {
   "cell_type": "code",
   "execution_count": 44,
   "metadata": {},
   "outputs": [
    {
     "name": "stdout",
     "output_type": "stream",
     "text": [
      "[('A', 1), ('B', 2), ('C', 3), ('D', 4)]\n",
      "\n",
      "Unzip :\n",
      "\n",
      "('A', 'B', 'C', 'D')\n",
      "(1, 2, 3, 4)\n"
     ]
    }
   ],
   "source": [
    "lst = ['A','B','C','D']\n",
    "lst2 = [1,2,3,4]\n",
    "\n",
    "zipped = list(zip(lst,lst2))\n",
    "print(zipped)\n",
    "\n",
    "print()\n",
    "print(\"Unzip :\\n\")\n",
    "\n",
    "letters,number = zip(*zipped)\n",
    "print(letters)\n",
    "print(number)\n"
   ]
  },
  {
   "cell_type": "markdown",
   "metadata": {},
   "source": [
    "### Q.46 Write a Python program to convert a list of tuples into a dictionary. "
   ]
  },
  {
   "cell_type": "code",
   "execution_count": 46,
   "metadata": {},
   "outputs": [
    {
     "name": "stdout",
     "output_type": "stream",
     "text": [
      "{1: 'a', 2: 'b', 3: 'c', 4: 'd', 5: 'e'}\n"
     ]
    }
   ],
   "source": [
    "lst = [1,2,3,4,5]\n",
    "tpl = ('a','b','c','d','e')\n",
    "\n",
    "zi = dict(zip(lst,tpl))\n",
    "print(zi)"
   ]
  },
  {
   "cell_type": "markdown",
   "metadata": {},
   "source": [
    "### Q.47  How will you create a dictionary using tuples in python?\n",
    "\n",
    "### **Creating a Dictionary Using Tuples in Python**  \n",
    "\n",
    "You can create a dictionary from tuples using the **`dict()` function** or **dictionary comprehension**.\n",
    "\n",
    " **1. Using `dict()` with a List of Tuples**\n",
    "Each tuple should contain **two elements**:  \n",
    "- The **first** element is the **key**  \n",
    "- The **second** element is the **value**  \n",
    "\n",
    " List of tuples\n",
    "data = [(\"name\", \"Alice\"), (\"age\", 25), (\"city\", \"New York\")]\n",
    "\n",
    " Convert to dictionary\n",
    "dictionary = dict(data)\n",
    "\n",
    "print(dictionary)\n",
    " Output: {'name': 'Alice', 'age': 25, 'city': 'New York'}\n",
    "\n",
    " How it works?  \n",
    "- `dict(data)` automatically converts each `(key, value)` pair into a dictionary.\n",
    "\n",
    "**2. Using a Tuple Directly Inside `dict()`**\n",
    "\n",
    "```python\n",
    "tup = ((\"name\", \"Bob\"), (\"age\", 30), (\"city\", \"London\"))\n",
    "dictionary = dict(tup)\n",
    "\n",
    "print(dictionary)\n",
    "# Output: {'name': 'Bob', 'age': 30, 'city': 'London'}\n",
    "```\n",
    "✔ Works the same way as using a list of tuples.\n",
    "\n",
    " **3. Using Dictionary Comprehension with a Tuple**\n",
    "```python\n",
    "tup = ((\"name\", \"Charlie\"), (\"age\", 28), (\"city\", \"Paris\"))\n",
    "\n",
    "dictionary = {key: value for key, value in tup}\n",
    "print(dictionary)\n",
    "# Output: {'name': 'Charlie', 'age': 28, 'city': 'Paris'}\n",
    "```\n",
    "🔹 This method is useful when filtering or transforming data while creating the dictionary.\n",
    "\n",
    " **4. Creating a Dictionary from a Tuple of Keys and a Tuple of Values**\n",
    "If you have **separate tuples** for keys and values, use `zip()`:\n",
    "```python\n",
    "keys = (\"name\", \"age\", \"city\")\n",
    "values = (\"David\", 35, \"Tokyo\")\n",
    "\n",
    "dictionary = dict(zip(keys, values))\n",
    "\n",
    "print(dictionary)\n",
    "# Output: {'name': 'David', 'age': 35, 'city': 'Tokyo'}\n",
    "```\n",
    "🔹 `zip(keys, values)` pairs elements from both tuples, forming a **list of tuples**, which `dict()` then converts into a dictionary.\n",
    "\n",
    " Which Method Should You Use?\n",
    "| Method | Best Use Case |\n",
    "|--------|--------------|\n",
    "| `dict(list_of_tuples)` | Standard way to convert `(key, value)` pairs |\n",
    "| `zip(keys, values)` | When keys & values are in separate tuples |\n",
    "| Dictionary comprehension | When filtering/modifying values |\n"
   ]
  },
  {
   "cell_type": "markdown",
   "metadata": {},
   "source": [
    "### Q.48  Write a Python script to sort (ascending and descending) a dictionary by value."
   ]
  },
  {
   "cell_type": "code",
   "execution_count": 70,
   "metadata": {},
   "outputs": [
    {
     "name": "stdout",
     "output_type": "stream",
     "text": [
      "Dictionary ascending by value : \n",
      "{'D': 3, 'C': 5, 'A': 7, 'B': 10}\n",
      "Dictionary descending by value : \n",
      "{'B': 10, 'A': 7, 'C': 5, 'D': 3}\n"
     ]
    }
   ],
   "source": [
    "dic = {'A' : 7,\n",
    "       'B' : 10,\n",
    "       'C' : 5,\n",
    "       'D' : 3}\n",
    "\n",
    "print(\"Dictionary ascending by value : \")\n",
    "\n",
    "asc = dict(sorted(dic.items(),key = lambda item : item[1]))\n",
    "print(asc)\n",
    "\n",
    "print(\"Dictionary descending by value : \")\n",
    "dsc = dict(sorted(dic.items(),key=lambda item : item[1], reverse = True))\n",
    "print(dsc)"
   ]
  },
  {
   "cell_type": "markdown",
   "metadata": {},
   "source": [
    "### Q.49 Write a Python script to concatenate following dictionaries to create a new one."
   ]
  },
  {
   "cell_type": "code",
   "execution_count": 67,
   "metadata": {},
   "outputs": [
    {
     "name": "stdout",
     "output_type": "stream",
     "text": [
      "Ascending Order: {'banana': 20, 'cherry': 30, 'date': 40, 'apple': 50}\n",
      "Descending Order: {'apple': 50, 'date': 40, 'cherry': 30, 'banana': 20}\n"
     ]
    }
   ],
   "source": [
    "my_dict = {'apple': 50, 'banana': 20, 'cherry': 30, 'date': 40}\n",
    "\n",
    "# Sorting in ascending order\n",
    "asc_sorted_dict = dict(sorted(my_dict.items(), key=lambda item: item[1]))\n",
    "\n",
    "# Sorting in descending order\n",
    "desc_sorted_dict = dict(sorted(my_dict.items(), key=lambda item: item[1], reverse=True))\n",
    "\n",
    "print(\"Ascending Order:\", asc_sorted_dict)\n",
    "print(\"Descending Order:\", desc_sorted_dict)\n"
   ]
  },
  {
   "cell_type": "markdown",
   "metadata": {},
   "source": [
    "### Q.50  Write a Python script to check if a given key already exists in a dictionary."
   ]
  },
  {
   "cell_type": "code",
   "execution_count": 84,
   "metadata": {},
   "outputs": [
    {
     "name": "stdout",
     "output_type": "stream",
     "text": [
      "Duplicate value are not involve \n"
     ]
    }
   ],
   "source": [
    "my_dict = {'apple': 50, 'banana': 20, 'cherry': 30, 'date': 40}\n",
    "l1 = list(my_dict.values())\n",
    "\n",
    "if len(l1) != len(set(l1)):\n",
    "    print(\"Duplicate value are involve !\")\n",
    "else:\n",
    "    print(\"Duplicate value are not involve \")\n"
   ]
  },
  {
   "cell_type": "markdown",
   "metadata": {},
   "source": [
    "### Q.51 How Do You Traverse Through a Dictionary Object in Python?\n",
    "\n",
    "**How to Traverse Through a Dictionary in Python?**  \n",
    "\n",
    "You can traverse (iterate) through a dictionary using loops in several ways.  \n",
    "\n",
    " **1. Loop Through Keys (`for key in dict`)**  \n",
    "```python\n",
    "my_dict = {'name': 'Alice', 'age': 25, 'city': 'New York'}\n",
    "\n",
    "for key in my_dict:\n",
    "    print(key)\n",
    "```\n",
    "**Output:**\n",
    "```\n",
    "name\n",
    "age\n",
    "city\n",
    "```\n",
    "🔹 By default, looping over a dictionary iterates over its **keys**.\n",
    "\n",
    " **2. Loop Through Values (`dict.values()`)**  \n",
    "```python\n",
    "for value in my_dict.values():\n",
    "    print(value)\n",
    "```\n",
    "**Output:**\n",
    "```\n",
    "Alice\n",
    "25\n",
    "New York\n",
    "```\n",
    "🔹 `values()` retrieves all values **without keys**.\n",
    "\n",
    "**3. Loop Through Key-Value Pairs (`dict.items()`)**\n",
    "```python\n",
    "for key, value in my_dict.items():\n",
    "    print(f\"{key}: {value}\")\n",
    "```\n",
    "**Output:**\n",
    "```\n",
    "name: Alice\n",
    "age: 25\n",
    "city: New York\n",
    "```\n",
    "🔹 This is the **most common** method for iterating over dictionaries.\n",
    "\n",
    " **4. Using `enumerate()` (Index-Based Traversal)**\n",
    "```python\n",
    "for index, (key, value) in enumerate(my_dict.items()):\n",
    "    print(f\"{index}: {key} -> {value}\")\n",
    "```\n",
    "**Output:**\n",
    "```\n",
    "0: name -> Alice\n",
    "1: age -> 25\n",
    "2: city -> New York\n",
    "```\n",
    "🔹 `enumerate()` adds an **index** to each key-value pair.\n",
    "\n",
    " **5. Traverse Keys in Sorted Order**\n",
    "```python\n",
    "for key in sorted(my_dict.keys()):\n",
    "    print(f\"{key}: {my_dict[key]}\")\n",
    "```\n",
    "🔹 This sorts the keys **alphabetically** before iteration.\n",
    "\n",
    " **6. Using Dictionary Comprehension (Create a New Dict)**\n",
    "```python\n",
    "squared_values = {k: v**2 for k, v in {'a': 2, 'b': 3, 'c': 4}.items()}\n",
    "print(squared_values)\n",
    "```\n",
    "**Output:**\n",
    "```\n",
    "{'a': 4, 'b': 9, 'c': 16}\n",
    "```\n",
    "🔹 This is a **functional approach** to modifying dictionary values while iterating.\n",
    "\n",
    " **7. Using `while` Loop (Convert to Iterator)**\n",
    "```python\n",
    "my_dict = {'a': 1, 'b': 2, 'c': 3}\n",
    "iterator = iter(my_dict.items())\n",
    "\n",
    "while True:\n",
    "    try:\n",
    "        key, value = next(iterator)\n",
    "        print(f\"{key}: {value}\")\n",
    "    except StopIteration:\n",
    "        break\n",
    "```\n",
    "🔹 **`iter()` and `next()`** manually fetch elements from the dictionary.\n",
    "\n",
    "**Which Method Should You Use?**\n",
    "| Method | Best For |\n",
    "|--------|---------|\n",
    "| `for key in dict` | When you only need keys |\n",
    "| `for value in dict.values()` | When you only need values |\n",
    "| `for key, value in dict.items()` | Best for key-value iteration |\n",
    "| `enumerate(dict.items())` | When you need an index |\n",
    "| `sorted(dict.keys())` | When sorting keys before iteration |\n",
    "| `while` with `iter()` | When manual iteration is needed |\n"
   ]
  },
  {
   "cell_type": "markdown",
   "metadata": {},
   "source": [
    "### Q.52  How Do You Check the Presence of a Key in A Dictionary?\n",
    "\n",
    "### **How to Check If a Key Exists in a Dictionary in Python?**  \n",
    "\n",
    "There are multiple ways to check if a key is present in a dictionary. Here are the best methods:  \n",
    "\n",
    "**1. Using the `in` Operator (Recommended)**\n",
    "The `in` operator is the most efficient and **Pythonic** way to check for a key.  \n",
    "```python\n",
    "my_dict = {'name': 'Alice', 'age': 25, 'city': 'New York'}\n",
    "\n",
    "if 'age' in my_dict:\n",
    "    print(\"Key exists\")\n",
    "else:\n",
    "    print(\"Key not found\")\n",
    "```\n",
    "**Output:**\n",
    "```\n",
    "Key exists\n",
    "```\n",
    "🔹 **Why use this?**  \n",
    "✅ Fast and efficient (**O(1) complexity**)  \n",
    "✅ Works even if the key has a `None` value  \n",
    "\n",
    " **2. Using `dict.get()` (Avoids KeyError)**\n",
    "```python\n",
    "if my_dict.get('age') is not None:\n",
    "    print(\"Key exists\")\n",
    "```\n",
    "🔹 **Advantage**:  \n",
    "- **Does not raise an error** if the key is missing.\n",
    "- If the key is **present but has `None` as a value**, this may not work as expected.\n",
    "\n",
    " **3. Using `dict.keys()` (Less Efficient)**\n",
    "```python\n",
    "if 'age' in my_dict.keys():\n",
    "    print(\"Key exists\")\n",
    "```\n",
    "🔹 **Downside**: `dict.keys()` creates a list-like view, which **makes it slower** than using `in` directly on the dictionary.\n",
    "\n",
    " **4. Using `try-except` (When You Need to Access the Value)**\n",
    "```python\n",
    "try:\n",
    "    value = my_dict['age']\n",
    "    print(\"Key exists with value:\", value)\n",
    "except KeyError:\n",
    "    print(\"Key not found\")\n",
    "```\n",
    "🔹 **When to use?**  \n",
    "- If you want to **retrieve the value** while checking for the key.\n",
    "- This method is slightly slower than `in`, but useful when handling exceptions.\n",
    "\n",
    "5. Using `setdefault()` (Checking & Setting Default)**\n",
    "```python\n",
    "value = my_dict.setdefault('age', 30)\n",
    "print(\"Key exists with value:\", value)\n",
    "```\n",
    "🔹 **Use case**: If the key **does not exist, it adds it with a default value**.\n",
    "\n",
    " **Best Method to Use?**\n",
    "| Method | Best When | Time Complexity |\n",
    "|--------|-----------|----------------|\n",
    "| `key in dict` | Fastest & most common | **O(1)** |\n",
    "| `dict.get(key)` | Avoids KeyError | **O(1)** |\n",
    "| `key in dict.keys()` | Not recommended (slower) | **O(n)** |\n",
    "| `try-except` | When accessing value directly | **O(1) in best case, O(n) in worst case** |\n",
    "| `setdefault()` | Check & insert default value if missing | **O(1)** |"
   ]
  },
  {
   "cell_type": "markdown",
   "metadata": {},
   "source": [
    "### Q.53  Write a Python script to print a dictionary where the keys are numbers between 1 and 15."
   ]
  },
  {
   "cell_type": "code",
   "execution_count": 3,
   "metadata": {},
   "outputs": [
    {
     "name": "stdout",
     "output_type": "stream",
     "text": [
      "{1: 1, 2: 4, 3: 9, 4: 16, 5: 25, 6: 36, 7: 49, 8: 64, 9: 81, 10: 100, 11: 121, 12: 144, 13: 169, 14: 196, 15: 225}\n"
     ]
    }
   ],
   "source": [
    "\n",
    "my_dict = {i: i**2 for i in range(1, 16)}\n",
    "\n",
    "print(my_dict)\n"
   ]
  },
  {
   "cell_type": "markdown",
   "metadata": {},
   "source": [
    "### Q.54 Write a Python program to check multiple keys exists in a dictionar"
   ]
  },
  {
   "cell_type": "code",
   "execution_count": 4,
   "metadata": {},
   "outputs": [
    {
     "name": "stdout",
     "output_type": "stream",
     "text": [
      "All keys exist in the dictionary.\n"
     ]
    }
   ],
   "source": [
    "def check_keys_exist(dictionary, keys):\n",
    "    return set(keys).issubset(dictionary.keys())\n",
    "\n",
    "my_dict = {\"name\": \"Alice\", \"age\": 25, \"city\": \"New York\", \"country\": \"USA\"}\n",
    "\n",
    "keys_to_check = [\"name\", \"age\"]\n",
    "\n",
    "if check_keys_exist(my_dict, keys_to_check):\n",
    "    print(\"All keys exist in the dictionary.\")\n",
    "else:\n",
    "    print(\"Some keys are missing.\")\n"
   ]
  },
  {
   "cell_type": "markdown",
   "metadata": {},
   "source": [
    "###  Q.55 Write a Python script to merge two Python dictionaries"
   ]
  },
  {
   "cell_type": "code",
   "execution_count": 5,
   "metadata": {},
   "outputs": [
    {
     "name": "stdout",
     "output_type": "stream",
     "text": [
      "Merged Dictionary: {'a': 1, 'b': 2, 'c': 3, 'd': 4}\n"
     ]
    }
   ],
   "source": [
    "dict1 = {\"a\": 1, \"b\": 2}\n",
    "dict2 = {\"c\": 3, \"d\": 4}\n",
    "\n",
    "dict1.update(dict2)\n",
    "\n",
    "print(\"Merged Dictionary:\", dict1)\n"
   ]
  },
  {
   "cell_type": "markdown",
   "metadata": {},
   "source": [
    "### Q.56 Write a Python program to map two lists into a dictionary \n"
   ]
  },
  {
   "cell_type": "code",
   "execution_count": 7,
   "metadata": {},
   "outputs": [
    {
     "name": "stdout",
     "output_type": "stream",
     "text": [
      "Counter ( Counter({'a': 400, 'b': 400, 'd': 400, 'c': 300}) )\n"
     ]
    }
   ],
   "source": [
    "from collections import Counter\n",
    "\n",
    "keys = ['a', 'b', 'c', 'd']\n",
    "values = [400, 400, 300, 400]\n",
    "\n",
    "mapped_dict = dict(zip(keys, values))\n",
    "\n",
    "counter_dict = Counter(mapped_dict)\n",
    "\n",
    "print(\"Counter (\", counter_dict, \")\")\n"
   ]
  },
  {
   "cell_type": "markdown",
   "metadata": {},
   "source": [
    "### Q.57 Write a Python program to find the highest 3 values in a dictionary"
   ]
  },
  {
   "cell_type": "code",
   "execution_count": 9,
   "metadata": {},
   "outputs": [
    {
     "name": "stdout",
     "output_type": "stream",
     "text": [
      "Top 3 highest values: [400, 300, 200]\n"
     ]
    }
   ],
   "source": [
    "import heapq\n",
    "\n",
    "my_dict = {'a': 50, 'b': 200, 'c': 150, 'd': 400, 'e': 300}\n",
    "\n",
    "highest_values = heapq.nlargest(3, my_dict.values())\n",
    "\n",
    "print(\"Top 3 highest values:\", highest_values)\n"
   ]
  },
  {
   "cell_type": "markdown",
   "metadata": {},
   "source": [
    "### Q.58 Write a Python program to combine values in python list of dictionaries. \n",
    "### Sample data: [{'item': 'item1', 'amount': 400}, {'item': 'item2', 'amount': 300}, o{'item': 'item1', 'amount': 750}] "
   ]
  },
  {
   "cell_type": "code",
   "execution_count": 10,
   "metadata": {},
   "outputs": [
    {
     "name": "stdout",
     "output_type": "stream",
     "text": [
      "{'item1': 1150, 'item2': 300}\n"
     ]
    }
   ],
   "source": [
    "from collections import defaultdict\n",
    "\n",
    "data = [\n",
    "    {'item': 'item1', 'amount': 400},\n",
    "    {'item': 'item2', 'amount': 300},\n",
    "    {'item': 'item1', 'amount': 750}\n",
    "]\n",
    "\n",
    "combined_dict = defaultdict(int)\n",
    "\n",
    "for entry in data:\n",
    "    combined_dict[entry['item']] += entry['amount']\n",
    "\n",
    "result = dict(combined_dict)\n",
    "\n",
    "print(result)\n"
   ]
  },
  {
   "cell_type": "markdown",
   "metadata": {},
   "source": [
    "### Q.59 Write a Python program to create a dictionary from a string. \n",
    "### Note: Track the count of the letters from the string."
   ]
  },
  {
   "cell_type": "code",
   "execution_count": 11,
   "metadata": {},
   "outputs": [
    {
     "name": "stdout",
     "output_type": "stream",
     "text": [
      "Counter({'l': 3, 'o': 2, 'h': 1, 'e': 1, ' ': 1, 'w': 1, 'r': 1, 'd': 1})\n"
     ]
    }
   ],
   "source": [
    "from collections import Counter\n",
    "\n",
    "sample_string = \"hello world\"\n",
    "\n",
    "letter_count = Counter(sample_string)\n",
    "\n",
    "print(letter_count)\n"
   ]
  },
  {
   "cell_type": "markdown",
   "metadata": {},
   "source": [
    "### Q.60 Sample string:\n",
    "### 'w3resource' Expected output: \n",
    "### • {'3': 1,’s’: 1, 'r': 2, 'u': 1, 'w': 1, 'c': 1, 'e': 2, 'o': 1} "
   ]
  },
  {
   "cell_type": "code",
   "execution_count": 12,
   "metadata": {},
   "outputs": [
    {
     "name": "stdout",
     "output_type": "stream",
     "text": [
      "{'w': 1, '3': 1, 'r': 2, 'e': 2, 's': 1, 'o': 1, 'u': 1, 'c': 1}\n"
     ]
    }
   ],
   "source": [
    "from collections import Counter\n",
    "\n",
    "sample_string = \"w3resource\"\n",
    "\n",
    "letter_count = Counter(sample_string)\n",
    "\n",
    "print(dict(letter_count))\n"
   ]
  },
  {
   "cell_type": "markdown",
   "metadata": {},
   "source": [
    "###  Q.61 Write a Python function to calculate the factorial of a number (a \n",
    "nonnegative integer)"
   ]
  },
  {
   "cell_type": "code",
   "execution_count": 13,
   "metadata": {},
   "outputs": [
    {
     "name": "stdout",
     "output_type": "stream",
     "text": [
      "Factorial of 5 is: 120\n"
     ]
    }
   ],
   "source": [
    "def factorial_recursive(n):\n",
    "    if n == 0 or n == 1:\n",
    "        return 1\n",
    "    return n * factorial_recursive(n - 1)\n",
    "\n",
    "num = 5\n",
    "print(\"Factorial of\", num, \"is:\", factorial_recursive(num))\n"
   ]
  },
  {
   "cell_type": "markdown",
   "metadata": {},
   "source": [
    "### Q.62 Write a Python function to check whether a number is in a given range"
   ]
  },
  {
   "cell_type": "code",
   "execution_count": 14,
   "metadata": {},
   "outputs": [
    {
     "name": "stdout",
     "output_type": "stream",
     "text": [
      "Factorial of 5 is: 120\n"
     ]
    }
   ],
   "source": [
    "def factorial_recursive(n):\n",
    "    if n == 0 or n == 1:\n",
    "        return 1\n",
    "    return n * factorial_recursive(n - 1)\n",
    "\n",
    "num = 5\n",
    "print(\"Factorial of\", num, \"is:\", factorial_recursive(num))\n"
   ]
  },
  {
   "cell_type": "markdown",
   "metadata": {},
   "source": [
    " ### Q.63 Write a Python function to check whether a number is perfect or not."
   ]
  },
  {
   "cell_type": "code",
   "execution_count": 15,
   "metadata": {},
   "outputs": [
    {
     "name": "stdout",
     "output_type": "stream",
     "text": [
      "6 is a perfect number.\n"
     ]
    }
   ],
   "source": [
    "def is_perfect_number(n):\n",
    "    if n < 1:\n",
    "        return False  \n",
    "    \n",
    "    divisors_sum = sum(i for i in range(1, n) if n % i == 0)\n",
    "    \n",
    "    return divisors_sum == n\n",
    "\n",
    "num = 6\n",
    "if is_perfect_number(num):\n",
    "    print(num, \"is a perfect number.\")\n",
    "else:\n",
    "    print(num, \"is not a perfect number.\")\n"
   ]
  },
  {
   "cell_type": "markdown",
   "metadata": {},
   "source": [
    "### Q.64 Write a Python function that checks whether a passed string is palindrome or not "
   ]
  },
  {
   "cell_type": "code",
   "execution_count": 16,
   "metadata": {},
   "outputs": [
    {
     "name": "stdout",
     "output_type": "stream",
     "text": [
      "'madam' is not a palindrome.\n"
     ]
    }
   ],
   "source": [
    "def is_palindrome(s):\n",
    "    s = s.lower().replace(\" \", \"\")  \n",
    "\n",
    "word = \"madam\"\n",
    "if is_palindrome(word):\n",
    "    print(f\"'{word}' is a palindrome.\")\n",
    "else:\n",
    "    print(f\"'{word}' is not a palindrome.\")\n"
   ]
  },
  {
   "cell_type": "markdown",
   "metadata": {},
   "source": [
    "### Q.65 How Many Basic Types of Functions Are Available in Python? \n",
    "\n",
    "In Python, functions can be categorized into **four basic types** based on their usage and definition:\n",
    "\n",
    "### **1. Built-in Functions**  \n",
    "These are pre-defined functions in Python that are readily available for use.  \n",
    "🔹 **Examples:** `print()`, `len()`, `type()`, `sum()`, `max()`, `min()`, `input()`, `abs()`, etc.  \n",
    "```python\n",
    "print(len(\"Hello\"))  # Output: 5\n",
    "```\n",
    "\n",
    "---\n",
    "\n",
    "### **2. User-defined Functions**  \n",
    "Functions created by users to perform specific tasks.  \n",
    "🔹 **Example:**\n",
    "```python\n",
    "def greet(name):\n",
    "    return f\"Hello, {name}!\"\n",
    "\n",
    "print(greet(\"Alice\"))  # Output: Hello, Alice!\n",
    "```\n",
    "\n",
    "---\n",
    "\n",
    "### **3. Anonymous (Lambda) Functions**  \n",
    "Functions that do not have a name and are defined using the `lambda` keyword.  \n",
    "🔹 **Example:**\n",
    "```python\n",
    "square = lambda x: x ** 2\n",
    "print(square(5))  # Output: 25\n",
    "```\n",
    "\n",
    "---\n",
    "\n",
    "### **4. Recursion Functions**  \n",
    "Functions that call themselves to solve problems using recursion.  \n",
    "🔹 **Example (Factorial Calculation):**\n",
    "```python\n",
    "def factorial(n):\n",
    "    if n == 0:\n",
    "        return 1\n",
    "    return n * factorial(n - 1)\n",
    "\n",
    "print(factorial(5))  # Output: 120\n",
    "```\n",
    "\n",
    "---\n",
    "\n",
    "These four types cover the **basic function types**"
   ]
  },
  {
   "cell_type": "markdown",
   "metadata": {},
   "source": [
    "### Q.66 How can you pick a random item from a list or tuple?\n",
    "\n",
    "You can pick a random item from a **list** or **tuple** using the `random.choice()` function from the `random` module.  \n",
    "\n",
    "### **Example: Picking a Random Item from a List**\n",
    "```python\n",
    "import random\n",
    "\n",
    "my_list = ['apple', 'banana', 'cherry', 'date']\n",
    "random_item = random.choice(my_list)\n",
    "\n",
    "print(\"Random item from the list:\", random_item)\n",
    "```\n",
    "\n",
    "### **Example: Picking a Random Item from a Tuple**\n",
    "```python\n",
    "my_tuple = ('red', 'blue', 'green', 'yellow')\n",
    "random_item = random.choice(my_tuple)\n",
    "\n",
    "print(\"Random item from the tuple:\", random_item)\n",
    "```\n",
    "\n",
    "### **Alternative Methods:**\n",
    "1. **Using `random.randint()` (if accessing by index)**\n",
    "   ```python\n",
    "   index = random.randint(0, len(my_list) - 1)\n",
    "   print(my_list[index])\n",
    "   ```\n",
    "   \n",
    "2. **Using `random.choices()` (for weighted selection)**\n",
    "   ```python\n",
    "   random_item = random.choices(my_list, weights=[1, 2, 1, 3])\n",
    "   print(random_item[0])  # Picks based on weights\n",
    "   ```"
   ]
  },
  {
   "cell_type": "markdown",
   "metadata": {},
   "source": [
    " ### Q.67 How can you pick a random item from a range? \n",
    "\n",
    " You can pick a random item from a **range** in Python using the `random.choice()` or `random.randrange()` functions from the `random` module.  \n",
    "\n",
    "---\n",
    "\n",
    "### **1. Using `random.choice()`**\n",
    "```python\n",
    "import random\n",
    "\n",
    "# Pick a random number from a range\n",
    "random_number = random.choice(range(1, 10))\n",
    "\n",
    "print(\"Random number from range:\", random_number)\n",
    "```\n",
    "🔹 **Works with `range()`, but first converts it into a sequence (list-like).**  \n",
    "\n",
    "---\n",
    "\n",
    "### **2. Using `random.randrange()`**  \n",
    "```python\n",
    "import random\n",
    "\n",
    "# Pick a random number between 1 and 10 (excluding 10)\n",
    "random_number = random.randrange(1, 10)\n",
    "\n",
    "print(\"Random number from range:\", random_number)\n",
    "```\n",
    "🔹 **More efficient than `random.choice(range())` because it doesn’t convert to a list.**  \n",
    "🔹 **You can also specify a step, like `random.randrange(1, 10, 2)`, to get only odd numbers.**\n",
    "\n",
    "---\n",
    "\n",
    "### **3. Using `random.randint()`** (Inclusive of both ends)\n",
    "```python\n",
    "import random\n",
    "\n",
    "random_number = random.randint(1, 10)  # Includes both 1 and 10\n",
    "\n",
    "print(\"Random number from range:\", random_number)\n",
    "```\n",
    "🔹 **Unlike `randrange()`, `randint(a, b)` includes both `a` and `b` in the range.**\n",
    "\n",
    "---\n",
    "\n",
    "### **Example Outputs:**\n",
    "Each time you run the code, you get a different random number, such as:\n",
    "```python\n",
    "Random number from range: 7\n",
    "```"
   ]
  },
  {
   "cell_type": "markdown",
   "metadata": {},
   "source": [
    "### Q.68 How can you get a random number in python? \n",
    "\n",
    "You can generate a **random number** in Python using the `random` module. Here are different ways to do it:\n",
    "\n",
    "---\n",
    "\n",
    "### **1. Random Integer (`randint()`)**  \n",
    "Generates a **random integer** between two specified numbers (both inclusive).  \n",
    "```python\n",
    "import random\n",
    "\n",
    "random_int = random.randint(1, 100)  # Random number between 1 and 100\n",
    "print(random_int)\n",
    "```\n",
    "🔹 **Includes both `1` and `100`.**\n",
    "\n",
    "---\n",
    "\n",
    "### **2. Random Integer (`randrange()`)**  \n",
    "Generates a random integer within a range, with an optional step.  \n",
    "```python\n",
    "random_int = random.randrange(1, 100, 2)  # Random odd number between 1 and 99\n",
    "print(random_int)\n",
    "```\n",
    "🔹 **Excludes the upper bound (100).**  \n",
    "🔹 **Can specify a step (e.g., only odd numbers).**\n",
    "\n",
    "---\n",
    "\n",
    "### **3. Random Floating-Point Number (`random()`)**  \n",
    "Generates a **random float** between `0.0` and `1.0`.  \n",
    "```python\n",
    "random_float = random.random()\n",
    "print(random_float)\n",
    "```\n",
    "🔹 **Always between `0.0` and `1.0`.**\n",
    "\n",
    "---\n",
    "\n",
    "### **4. Random Float in a Range (`uniform()`)**  \n",
    "Generates a **random float** between two specified numbers.  \n",
    "```python\n",
    "random_float = random.uniform(10, 50)  # Random float between 10 and 50\n",
    "print(random_float)\n",
    "```\n",
    "🔹 **Includes the lower and upper bounds.**\n",
    "\n",
    "---\n",
    "\n",
    "### **5. Random Decimal Number (`random()` with `round()`)**  \n",
    "Generates a **random float with a fixed number of decimal places**.  \n",
    "```python\n",
    "random_decimal = round(random.uniform(1, 10), 2)  # Random float with 2 decimal places\n",
    "print(random_decimal)\n",
    "```\n",
    "🔹 **`round()` controls decimal places.**\n",
    "\n",
    "---\n",
    "\n",
    "### **6. Random Number from a List (`choice()`)**  \n",
    "Selects a random number from a given list.  \n",
    "```python\n",
    "random_number = random.choice([5, 10, 15, 20, 25])\n",
    "print(random_number)\n",
    "```\n",
    "\n",
    "---\n",
    "\n",
    "### **7. Random Multiple Numbers (`sample()` or `choices()`)**  \n",
    "Get multiple unique or repeated random numbers.  \n",
    "```python\n",
    "random_numbers = random.sample(range(1, 100), 5)  # Unique numbers\n",
    "print(random_numbers)\n",
    "```\n",
    "```python\n",
    "random_numbers = random.choices(range(1, 100), k=5)  # Allows duplicates\n",
    "print(random_numbers)\n",
    "```"
   ]
  },
  {
   "cell_type": "markdown",
   "metadata": {},
   "source": [
    "### Q.69 How will you set the starting value in generating random numbers?\n",
    "\n",
    "You can set the **starting value (seed)** for generating random numbers in Python using the `random.seed()` function. This ensures that the sequence of random numbers remains the same each time you run the program.\n",
    "\n",
    "---\n",
    "\n",
    "### **Setting a Seed for Reproducible Random Numbers**\n",
    "```python\n",
    "import random\n",
    "\n",
    "random.seed(42)  # Set seed value\n",
    "\n",
    "print(random.randint(1, 100))  # Always generates the same number\n",
    "print(random.random())  # Always generates the same float\n",
    "print(random.choice([10, 20, 30, 40, 50]))  # Same choice each run\n",
    "```\n",
    "🔹 **Why Use `random.seed()`?**  \n",
    "- Ensures **consistent** random numbers in multiple runs (useful for debugging, testing, and research).  \n",
    "- Helps in **reproducing results** in machine learning and simulations.  \n",
    "\n",
    "---\n",
    "\n",
    "### **Example: Without vs. With `random.seed()`**\n",
    "#### **Without `random.seed()` (Numbers Change on Every Run)**\n",
    "```python\n",
    "import random\n",
    "print(random.randint(1, 100))  # Different output each time\n",
    "```\n",
    "\n",
    "#### **With `random.seed()` (Same Output Every Time)**\n",
    "```python\n",
    "import random\n",
    "random.seed(10)\n",
    "print(random.randint(1, 100))  # Same output every time\n",
    "```"
   ]
  },
  {
   "cell_type": "markdown",
   "metadata": {},
   "source": [
    "### Q.70 How will you randomize the items of a list in place?\n",
    "\n",
    "You can **randomize (shuffle) the items of a list in place** using the `random.shuffle()` function from the `random` module.  \n",
    "\n",
    "---\n",
    "\n",
    "### **Shuffling a List in Place**\n",
    "```python\n",
    "import random\n",
    "\n",
    "my_list = [1, 2, 3, 4, 5]\n",
    "random.shuffle(my_list)\n",
    "\n",
    "print(\"Shuffled list:\", my_list)\n",
    "```\n",
    "🔹 **Modifies the original list directly.**  \n",
    "🔹 **Does not return a new list; instead, it shuffles in place.**\n",
    "\n",
    "---\n",
    "\n",
    "### **Example Output (Will Change on Each Run)**\n",
    "```\n",
    "Shuffled list: [3, 5, 1, 4, 2]\n",
    "```\n",
    "\n",
    "---\n",
    "\n",
    "### **Shuffling Without Modifying the Original List**\n",
    "If you want to keep the original list unchanged, use `random.sample()`:\n",
    "```python\n",
    "original_list = [1, 2, 3, 4, 5]\n",
    "shuffled_list = random.sample(original_list, len(original_list))\n",
    "\n",
    "print(\"Original list:\", original_list)\n",
    "print(\"Shuffled list:\", shuffled_list)\n",
    "```\n",
    "🔹 **Creates a shuffled copy while keeping the original list unchanged.**\n"
   ]
  },
  {
   "cell_type": "markdown",
   "metadata": {},
   "source": [
    "### Q.71 What is File function in python? What are keywords to create and write file.\n",
    "\n",
    "### **File Functions in Python**\n",
    "In Python, file functions are used to perform operations like **creating, opening, reading, writing, and closing files**. These operations are done using the built-in `open()` function.\n",
    "\n",
    "---\n",
    "\n",
    "### **Keywords to Create and Write a File**\n",
    "The `open()` function is used with different **modes** to create and write files.\n",
    "\n",
    "#### **1. Creating a File (`'x'` mode or `'w'` mode)**\n",
    "- **`'x'` (exclusive creation mode)**: Creates a new file but raises an error if the file already exists.\n",
    "- **`'w'` (write mode)**: Creates a new file if it does not exist, otherwise **overwrites** an existing file.\n",
    "\n",
    "```python\n",
    "# Creating a file (raises error if the file exists)\n",
    "file = open(\"example.txt\", \"x\")  \n",
    "file.close()\n",
    "```\n",
    "```python\n",
    "# Creating and writing to a file (overwrites if file exists)\n",
    "file = open(\"example.txt\", \"w\")  \n",
    "file.write(\"Hello, this is a new file!\")\n",
    "file.close()\n",
    "```\n",
    "\n",
    "---\n",
    "\n",
    "#### **2. Writing to a File (`'w'` and `'a'` modes)**\n",
    "- **`'w'` (write mode)**: Overwrites the file if it already exists.\n",
    "- **`'a'` (append mode)**: Adds data to the end of the file without overwriting.\n",
    "\n",
    "```python\n",
    "# Overwriting a file\n",
    "with open(\"example.txt\", \"w\") as file:\n",
    "    file.write(\"This is a new line.\")\n",
    "\n",
    "# Appending to a file\n",
    "with open(\"example.txt\", \"a\") as file:\n",
    "    file.write(\"\\nThis line is appended.\")\n",
    "```\n",
    "\n",
    "---\n",
    "\n",
    "### **Common File Functions**\n",
    "| Function | Description |\n",
    "|----------|-------------|\n",
    "| `open(filename, mode)` | Opens a file in a specified mode (`'r'`, `'w'`, `'a'`, `'x'`) |\n",
    "| `file.read(size)` | Reads the file content (optional `size` parameter specifies number of bytes) |\n",
    "| `file.readline()` | Reads a single line from the file |\n",
    "| `file.readlines()` | Reads all lines into a list |\n",
    "| `file.write(text)` | Writes text to the file |\n",
    "| `file.writelines(list)` | Writes multiple lines from a list |\n",
    "| `file.close()` | Closes the file |\n"
   ]
  },
  {
   "cell_type": "markdown",
   "metadata": {},
   "source": [
    "### Q.72  Write a Python program to read an entire text file."
   ]
  },
  {
   "cell_type": "code",
   "execution_count": 19,
   "metadata": {},
   "outputs": [
    {
     "name": "stdout",
     "output_type": "stream",
     "text": [
      "Hello, this is a sample file.\n",
      "It contains multiple lines.\n",
      "Python makes file handling easy!\n",
      "\n"
     ]
    }
   ],
   "source": [
    "with open(\"example.txt\", \"w\") as file:\n",
    "    file.write(\"Hello, this is a sample file.\\n\")\n",
    "    file.write(\"It contains multiple lines.\\n\")\n",
    "    file.write(\"Python makes file handling easy!\\n\")\n",
    "\n",
    "\n",
    "with open(\"example.txt\", \"r\") as file:\n",
    "    content = file.read()\n",
    "    print(content)\n",
    "\n"
   ]
  },
  {
   "cell_type": "markdown",
   "metadata": {},
   "source": [
    "### Q.73 Write a Python program to append text to a file and display the text. "
   ]
  },
  {
   "cell_type": "code",
   "execution_count": 20,
   "metadata": {},
   "outputs": [],
   "source": [
    "with open(\"example.txt\", \"a\") as file:\n",
    "    file.write(\"This is an appended line.\\n\")\n",
    "    file.write(\"Appending another line!\\n\")\n"
   ]
  },
  {
   "cell_type": "code",
   "execution_count": 21,
   "metadata": {},
   "outputs": [
    {
     "name": "stdout",
     "output_type": "stream",
     "text": [
      "Hello, this is a sample file.\n",
      "It contains multiple lines.\n",
      "Python makes file handling easy!\n",
      "This is an appended line.\n",
      "Appending another line!\n",
      "\n"
     ]
    }
   ],
   "source": [
    "with open(\"example.txt\", \"r\") as file:\n",
    "    content = file.read()\n",
    "    print(content)"
   ]
  },
  {
   "cell_type": "markdown",
   "metadata": {},
   "source": [
    "###  Q.74 Write a Python program to read first n lines of a file. "
   ]
  },
  {
   "cell_type": "code",
   "execution_count": 22,
   "metadata": {},
   "outputs": [
    {
     "name": "stdout",
     "output_type": "stream",
     "text": [
      "Hello, this is a sample file.\n",
      "It contains multiple lines.\n",
      "Python makes file handling easy!\n"
     ]
    }
   ],
   "source": [
    "def read_first_n_lines(filename, n):\n",
    "    with open(filename, \"r\") as file:\n",
    "        lines = file.readlines()  \n",
    "        for line in lines[:n]:  \n",
    "            print(line.strip()) \n",
    "read_first_n_lines(\"example.txt\", 3)\n"
   ]
  },
  {
   "cell_type": "markdown",
   "metadata": {},
   "source": [
    "### Q. 75  Write a Python program to read last n lines of a file. "
   ]
  },
  {
   "cell_type": "code",
   "execution_count": 23,
   "metadata": {},
   "outputs": [
    {
     "name": "stdout",
     "output_type": "stream",
     "text": [
      "Python makes file handling easy!\n",
      "This is an appended line.\n",
      "Appending another line!\n"
     ]
    }
   ],
   "source": [
    "def read_last_n_lines(filename, n):\n",
    "    with open(filename, \"r\") as file:\n",
    "        lines = file.readlines()  \n",
    "        for line in lines[-n:]:  \n",
    "            print(line.strip())  \n",
    "\n",
    "read_last_n_lines(\"example.txt\", 3)\n"
   ]
  },
  {
   "cell_type": "markdown",
   "metadata": {},
   "source": [
    "### Q.76  Write a Python program to read a file line by line and store it into a list"
   ]
  },
  {
   "cell_type": "code",
   "execution_count": 24,
   "metadata": {},
   "outputs": [
    {
     "name": "stdout",
     "output_type": "stream",
     "text": [
      "['Hello, this is a sample file.', 'It contains multiple lines.', 'Python makes file handling easy!', 'This is an appended line.', 'Appending another line!']\n"
     ]
    }
   ],
   "source": [
    "def read_file_into_list(filename):\n",
    "    with open(filename, \"r\") as file:\n",
    "        lines = file.readlines() \n",
    "        lines = [line.strip() for line in lines] \n",
    "    return lines\n",
    "\n",
    "file_lines = read_file_into_list(\"example.txt\")\n",
    "print(file_lines)  \n"
   ]
  },
  {
   "cell_type": "markdown",
   "metadata": {},
   "source": [
    "### Q.77  Write a Python program to read a file line by line store it into a variable"
   ]
  },
  {
   "cell_type": "code",
   "execution_count": 25,
   "metadata": {},
   "outputs": [
    {
     "name": "stdout",
     "output_type": "stream",
     "text": [
      "Hello, this is a sample file.\n",
      "It contains multiple lines.\n",
      "Python makes file handling easy!\n",
      "This is an appended line.\n",
      "Appending another line!\n",
      "\n"
     ]
    }
   ],
   "source": [
    "def read_file_as_string(filename):\n",
    "    with open(filename, \"r\") as file:\n",
    "        content = file.read() \n",
    "    return content\n",
    "\n",
    "file_content = read_file_as_string(\"example.txt\")\n",
    "print(file_content)  \n"
   ]
  },
  {
   "cell_type": "markdown",
   "metadata": {},
   "source": [
    "###  Q.78 Write a python program to find the longest words."
   ]
  },
  {
   "cell_type": "code",
   "execution_count": 26,
   "metadata": {},
   "outputs": [
    {
     "name": "stdout",
     "output_type": "stream",
     "text": [
      "Longest word(s): ['Appending']\n"
     ]
    }
   ],
   "source": [
    "def find_longest_words(filename):\n",
    "    with open(filename, \"r\") as file:\n",
    "        words = file.read().split() \n",
    "        max_length = max(len(word) for word in words) \n",
    "        longest_words = [word for word in words if len(word) == max_length]  # Get words with max length\n",
    "    return longest_words\n",
    "\n",
    "longest_words = find_longest_words(\"example.txt\")\n",
    "print(\"Longest word(s):\", longest_words)\n"
   ]
  },
  {
   "cell_type": "markdown",
   "metadata": {},
   "source": [
    "### Q.79 Write a Python program to count the number of lines in a text file."
   ]
  },
  {
   "cell_type": "code",
   "execution_count": 27,
   "metadata": {},
   "outputs": [
    {
     "name": "stdout",
     "output_type": "stream",
     "text": [
      "Number of lines: 5\n"
     ]
    }
   ],
   "source": [
    "def count_lines(filename):\n",
    "    with open(filename, \"r\") as file:\n",
    "        return len(file.readlines())  \n",
    "    \n",
    "line_count = count_lines(\"example.txt\")\n",
    "print(\"Number of lines:\", line_count)\n"
   ]
  },
  {
   "cell_type": "markdown",
   "metadata": {},
   "source": [
    "### Q.80 Write a Python program to count the frequency of words in a file."
   ]
  },
  {
   "cell_type": "code",
   "execution_count": 29,
   "metadata": {},
   "outputs": [
    {
     "name": "stdout",
     "output_type": "stream",
     "text": [
      "Word Frequency: Counter({'this': 2, 'is': 2, 'file': 2, 'line': 2, 'hello': 1, 'a': 1, 'sample': 1, 'it': 1, 'contains': 1, 'multiple': 1, 'lines': 1, 'python': 1, 'makes': 1, 'handling': 1, 'easy': 1, 'an': 1, 'appended': 1, 'appending': 1, 'another': 1})\n"
     ]
    }
   ],
   "source": [
    "from collections import Counter\n",
    "import string\n",
    "\n",
    "def count_word_frequency(filename):\n",
    "    try:\n",
    "        with open(filename, \"r\") as file:\n",
    "            text = file.read().lower()  # Convert text to lowercase\n",
    "            text = text.translate(str.maketrans(\"\", \"\", string.punctuation))  # Remove punctuation\n",
    "            words = text.split()  # Split into words\n",
    "\n",
    "        if not words:  # Handle empty file case\n",
    "            return \"The file is empty!\"\n",
    "\n",
    "        word_count = Counter(words)  # Count word occurrences\n",
    "        return word_count\n",
    "\n",
    "    except FileNotFoundError:\n",
    "        return \"Error: The file was not found!\"\n",
    "\n",
    "# Example usage\n",
    "filename = \"example.txt\"  # Ensure the file exists\n",
    "word_frequencies = count_word_frequency(filename)\n",
    "\n",
    "if isinstance(word_frequencies, Counter):\n",
    "    print(\"Word Frequency:\", word_frequencies)\n",
    "else:\n",
    "    print(word_frequencies)  # Display error message\n"
   ]
  },
  {
   "cell_type": "markdown",
   "metadata": {},
   "source": [
    "### Q.81 Write a Python program to write a list to a file."
   ]
  },
  {
   "cell_type": "code",
   "execution_count": 30,
   "metadata": {},
   "outputs": [
    {
     "name": "stdout",
     "output_type": "stream",
     "text": [
      "List written to file successfully!\n"
     ]
    }
   ],
   "source": [
    "def write_list_to_file(filename, data_list):\n",
    "    with open(filename, \"w\") as file:\n",
    "        file.writelines(\"\\n\".join(data_list)) \n",
    "\n",
    "data = [\"Python\", \"is\", \"awesome\", \"for\", \"file handling\"]\n",
    "write_list_to_file(\"output.txt\", data)\n",
    "print(\"List written to file successfully!\")\n"
   ]
  },
  {
   "cell_type": "markdown",
   "metadata": {},
   "source": [
    "###  Q.82 Write a Python program to copy the contents of a file to another file."
   ]
  },
  {
   "cell_type": "code",
   "execution_count": 32,
   "metadata": {},
   "outputs": [
    {
     "name": "stdout",
     "output_type": "stream",
     "text": [
      "Error: 'source.txt' not found!\n"
     ]
    }
   ],
   "source": [
    "import os\n",
    "\n",
    "def copy_file(source, destination):\n",
    "    if not os.path.exists(source): \n",
    "        print(f\"Error: '{source}' not found!\")\n",
    "        return\n",
    "\n",
    "    with open(source, \"r\") as src, open(destination, \"w\") as dest:\n",
    "        dest.write(src.read())  \n",
    "    \n",
    "    print(f\"Contents copied from '{source}' to '{destination}'\")\n",
    "\n",
    "copy_file(\"source.txt\", \"destination.txt\")\n"
   ]
  },
  {
   "cell_type": "markdown",
   "metadata": {},
   "source": [
    "### Q.83 Explain Exception handling? What is an Error in Python? \n",
    "\n",
    "## **Exception Handling in Python**\n",
    "Exception handling is a mechanism in Python that allows a program to **handle runtime errors (exceptions)** gracefully, preventing crashes and ensuring smooth execution.\n",
    "\n",
    "### **Why Use Exception Handling?**\n",
    "- Prevents program crashes due to unexpected errors.\n",
    "- Provides meaningful error messages instead of abrupt failures.\n",
    "- Allows fallback or alternative actions when errors occur.\n",
    "\n",
    "---\n",
    "\n",
    "## **Errors vs. Exceptions in Python**\n",
    "| **Type**  | **Definition** | **Example** |\n",
    "|-----------|--------------|-------------|\n",
    "| **Error** | A syntax or logical issue in the code that stops execution. | `SyntaxError`, `IndentationError` |\n",
    "| **Exception** | A runtime issue that occurs during program execution, which can be handled. | `ZeroDivisionError`, `FileNotFoundError` |\n",
    "\n",
    "### **Example: Error (SyntaxError)**\n",
    "```python\n",
    "print(\"Hello\"\n",
    "```\n",
    "**Output:**\n",
    "```\n",
    "SyntaxError: unexpected EOF while parsing\n",
    "```\n",
    "🔹 **Caused by missing a closing parenthesis.**  \n",
    "🔹 **Errors must be fixed before running the program.**\n",
    "\n",
    "---\n",
    "\n",
    "## **Handling Exceptions Using `try-except`**\n",
    "Python provides `try-except` blocks to catch and handle exceptions.\n",
    "\n",
    "### **Basic Exception Handling Example**\n",
    "```python\n",
    "try:\n",
    "    x = 10 / 0  # Division by zero (causes an exception)\n",
    "except ZeroDivisionError:\n",
    "    print(\"Error: Cannot divide by zero!\")\n",
    "```\n",
    "**Output:**\n",
    "```\n",
    "Error: Cannot divide by zero!\n",
    "```\n",
    "🔹 **`try` block** contains the code that might cause an exception.  \n",
    "🔹 **`except` block** handles the exception and prevents a crash.  \n",
    "\n",
    "---\n",
    "\n",
    "## **Handling Multiple Exceptions**\n",
    "```python\n",
    "try:\n",
    "    num = int(input(\"Enter a number: \"))  # User input\n",
    "    result = 10 / num\n",
    "except ZeroDivisionError:\n",
    "    print(\"You cannot divide by zero!\")\n",
    "except ValueError:\n",
    "    print(\"Invalid input! Please enter a number.\")\n",
    "```\n",
    "🔹 **Handles both `ZeroDivisionError` and `ValueError`.**  \n",
    "🔹 **Prevents program crashes due to invalid inputs.**  \n",
    "\n",
    "---\n",
    "\n",
    "## **Using `finally` (Always Executes)**\n",
    "```python\n",
    "try:\n",
    "    file = open(\"example.txt\", \"r\")\n",
    "    content = file.read()\n",
    "except FileNotFoundError:\n",
    "    print(\"File not found!\")\n",
    "finally:\n",
    "    print(\"Execution complete.\")\n",
    "```\n",
    "🔹 **`finally` block always runs**, whether an exception occurs or not.  \n",
    "🔹 Useful for **closing files or releasing resources**.\n",
    "\n",
    "---\n",
    "\n",
    "## **Using `else` (Executes if No Exception)**\n",
    "```python\n",
    "try:\n",
    "    num = int(input(\"Enter a number: \"))\n",
    "    print(\"You entered:\", num)\n",
    "except ValueError:\n",
    "    print(\"Invalid input! Please enter a number.\")\n",
    "else:\n",
    "    print(\"No errors occurred.\")\n",
    "```\n",
    "🔹 **`else` runs only if the `try` block is successful.**  \n",
    "\n",
    "---\n",
    "\n",
    "## **Raising Exceptions (`raise`)**\n",
    "You can manually raise exceptions using `raise`:\n",
    "```python\n",
    "num = -5\n",
    "if num < 0:\n",
    "    raise ValueError(\"Negative numbers are not allowed!\")\n",
    "```\n",
    "**Output:**\n",
    "```\n",
    "ValueError: Negative numbers are not allowed!\n",
    "```\n",
    "🔹 **Useful for enforcing custom validation rules.**  \n",
    "\n",
    "---\n",
    "\n",
    "### **Summary of Exception Handling**\n",
    "| **Keyword**  | **Purpose** |\n",
    "|-------------|------------|\n",
    "| `try`       | Code that may cause an exception |\n",
    "| `except`    | Handles specific exceptions |\n",
    "| `else`      | Runs if no exception occurs |\n",
    "| `finally`   | Always executes (cleanup code) |\n",
    "| `raise`     | Manually triggers an exception |\n",
    "\n",
    "---"
   ]
  },
  {
   "cell_type": "markdown",
   "metadata": {},
   "source": [
    "###  Q.84 How many except statements can a try-except block have? Name Some built-in exception classes: \n",
    "\n",
    "## **How Many `except` Statements Can a `try-except` Block Have?**  \n",
    "A `try` block can have **multiple `except` statements**, allowing it to handle **different types of exceptions separately**.\n",
    "\n",
    "### **Example: Handling Multiple Exceptions**\n",
    "```python\n",
    "try:\n",
    "    num = int(input(\"Enter a number: \"))  \n",
    "    result = 10 / num  \n",
    "except ZeroDivisionError:\n",
    "    print(\"You cannot divide by zero!\")\n",
    "except ValueError:\n",
    "    print(\"Invalid input! Please enter a number.\")\n",
    "except Exception as e:\n",
    "    print(f\"An unexpected error occurred: {e}\")\n",
    "```\n",
    "🔹 **You can have multiple `except` blocks**, each handling a different exception.  \n",
    "🔹 **`except Exception as e`** is a **generic handler** for all exceptions.\n",
    "\n",
    "---\n",
    "\n",
    "## **Some Built-in Exception Classes in Python**\n",
    "Python provides many built-in exception classes. Here are some common ones:\n",
    "\n",
    "| **Exception**         | **Description** |\n",
    "|----------------------|---------------|\n",
    "| `ArithmeticError`    | Base class for arithmetic errors |\n",
    "| `ZeroDivisionError`  | Division by zero (`10/0`) |\n",
    "| `ValueError`        | Invalid value (`int(\"abc\")`) |\n",
    "| `TypeError`         | Wrong data type (`\"5\" + 3`) |\n",
    "| `IndexError`        | List index out of range (`my_list[10]`) |\n",
    "| `KeyError`          | Dictionary key not found (`my_dict['missing']`) |\n",
    "| `FileNotFoundError` | File does not exist (`open(\"missing.txt\")`) |\n",
    "| `IOError`           | I/O operation failure (reading a closed file) |\n",
    "| `ImportError`       | Module import error (`import nonexistent`) |\n",
    "| `NameError`         | Variable not defined (`print(unknown_var)`) |\n",
    "| `RuntimeError`      | General runtime error |\n",
    "| `AttributeError`    | Accessing an invalid attribute (`None.length`) |\n",
    "\n",
    "---\n",
    "\n",
    "### **Example: Catching Different Built-in Exceptions**\n",
    "```python\n",
    "try:\n",
    "    my_list = [1, 2, 3]\n",
    "    print(my_list[5])  # IndexError\n",
    "except IndexError:\n",
    "    print(\"Error: List index is out of range!\")\n",
    "```\n",
    "🔹 **Catches `IndexError` and prevents a crash.**  \n",
    "\n",
    "---\n"
   ]
  },
  {
   "cell_type": "markdown",
   "metadata": {},
   "source": [
    "###  Q.85 When will the else part of try-except-else be executed? \n",
    "\n",
    "### **When Will the `else` Part of `try-except-else` Be Executed?**  \n",
    "The `else` block in a `try-except-else` structure **executes only if no exception occurs** in the `try` block.\n",
    "\n",
    "---\n",
    "\n",
    "### **✅ Key Points About `else`:**\n",
    "1. **If an exception occurs in `try`, `else` is skipped** and the `except` block handles the error.\n",
    "2. **If no exception occurs, `else` executes** after `try`, before continuing the program.\n",
    "3. **Good for code that should run only when `try` succeeds** (e.g., logging success, closing resources).\n",
    "\n",
    "---\n",
    "\n",
    "### **🔹 Example: `else` Executes When No Exception Occurs**\n",
    "```python\n",
    "try:\n",
    "    num = int(input(\"Enter a number: \"))  # No error if valid number\n",
    "    result = 10 / num  # Might cause ZeroDivisionError\n",
    "except ZeroDivisionError:\n",
    "    print(\"You cannot divide by zero!\")\n",
    "except ValueError:\n",
    "    print(\"Invalid input! Please enter a number.\")\n",
    "else:\n",
    "    print(\"Success! No errors occurred. The result is:\", result)\n",
    "```\n",
    "#### **✅ Input:**\n",
    "```\n",
    "5\n",
    "```\n",
    "#### **🟢 Output (`else` runs, as no error occurred):**\n",
    "```\n",
    "Success! No errors occurred. The result is: 2.0\n",
    "```\n",
    "\n",
    "---\n",
    "\n",
    "### **🔹 Example: `else` Skipped When Exception Occurs**\n",
    "#### **Input:**\n",
    "```\n",
    "0\n",
    "```\n",
    "#### **❌ Output (`else` is skipped due to ZeroDivisionError):**\n",
    "```\n",
    "You cannot divide by zero!\n",
    "```\n",
    "\n",
    "---\n",
    "\n",
    "### **When Should You Use `else`?**\n",
    "- **For code that should run only if `try` succeeds** (e.g., database commit after successful execution).\n",
    "- **To keep `try` blocks clean** and avoid unnecessary `try` nesting.\n",
    "\n",
    "---\n",
    "\n",
    "### **🔹 Another Example: File Handling**\n",
    "```python\n",
    "try:\n",
    "    file = open(\"test.txt\", \"r\")\n",
    "    content = file.read()\n",
    "except FileNotFoundError:\n",
    "    print(\"File not found!\")\n",
    "else:\n",
    "    print(\"File read successfully!\")\n",
    "    print(content)  # Only prints if no error occurs\n",
    "```\n",
    "\n",
    "---\n",
    "\n",
    "### **Summary**\n",
    "| **Block**   | **When it Runs** |\n",
    "|------------|-----------------|\n",
    "| `try`      | Always tries to execute |\n",
    "| `except`   | Runs **only if an exception occurs** |\n",
    "| `else`     | Runs **only if `try` succeeds** (no exceptions) |\n",
    "| `finally`  | Runs **always, no matter what** |\n"
   ]
  },
  {
   "cell_type": "markdown",
   "metadata": {},
   "source": [
    "###  Q.85 When will the else part of try-except-else be executed?\n",
    "\n",
    "### **When Will the `else` Part of `try-except-else` Be Executed?**  \n",
    "The `else` block in a `try-except-else` structure **executes only if no exception occurs** in the `try` block.\n",
    "\n",
    "---\n",
    "\n",
    "### **✅ Key Points About `else`:**\n",
    "1. **If an exception occurs in `try`, `else` is skipped** and the `except` block handles the error.\n",
    "2. **If no exception occurs, `else` executes** after `try`, before continuing the program.\n",
    "3. **Good for code that should run only when `try` succeeds** (e.g., logging success, closing resources).\n",
    "\n",
    "---\n",
    "\n",
    "### **🔹 Example: `else` Executes When No Exception Occurs**\n",
    "```python\n",
    "try:\n",
    "    num = int(input(\"Enter a number: \"))  # No error if valid number\n",
    "    result = 10 / num  # Might cause ZeroDivisionError\n",
    "except ZeroDivisionError:\n",
    "    print(\"You cannot divide by zero!\")\n",
    "except ValueError:\n",
    "    print(\"Invalid input! Please enter a number.\")\n",
    "else:\n",
    "    print(\"Success! No errors occurred. The result is:\", result)\n",
    "```\n",
    "#### **✅ Input:**\n",
    "```\n",
    "5\n",
    "```\n",
    "#### **🟢 Output (`else` runs, as no error occurred):**\n",
    "```\n",
    "Success! No errors occurred. The result is: 2.0\n",
    "```\n",
    "\n",
    "---\n",
    "\n",
    "### **🔹 Example: `else` Skipped When Exception Occurs**\n",
    "#### **Input:**\n",
    "```\n",
    "0\n",
    "```\n",
    "#### **❌ Output (`else` is skipped due to ZeroDivisionError):**\n",
    "```\n",
    "You cannot divide by zero!\n",
    "```\n",
    "\n",
    "---\n",
    "\n",
    "### **When Should You Use `else`?**\n",
    "- **For code that should run only if `try` succeeds** (e.g., database commit after successful execution).\n",
    "- **To keep `try` blocks clean** and avoid unnecessary `try` nesting.\n",
    "\n",
    "---\n",
    "\n",
    "### **🔹 Another Example: File Handling**\n",
    "```python\n",
    "try:\n",
    "    file = open(\"test.txt\", \"r\")\n",
    "    content = file.read()\n",
    "except FileNotFoundError:\n",
    "    print(\"File not found!\")\n",
    "else:\n",
    "    print(\"File read successfully!\")\n",
    "    print(content)  # Only prints if no error occurs\n",
    "```\n",
    "\n",
    "---\n",
    "\n",
    "### **Summary**\n",
    "| **Block**   | **When it Runs** |\n",
    "|------------|-----------------|\n",
    "| `try`      | Always tries to execute |\n",
    "| `except`   | Runs **only if an exception occurs** |\n",
    "| `else`     | Runs **only if `try` succeeds** (no exceptions) |\n",
    "| `finally`  | Runs **always, no matter what** |\n"
   ]
  },
  {
   "cell_type": "markdown",
   "metadata": {},
   "source": [
    "### Q.86 Can one block of except statements handle multiple exception?\n",
    "\n",
    "### **Can One `except` Block Handle Multiple Exceptions?**  \n",
    "Yes! A single `except` block **can handle multiple exceptions** by **listing them as a tuple**.\n",
    "\n",
    "---\n",
    "\n",
    "### **✅ Example: Handling Multiple Exceptions in One `except` Block**\n",
    "```python\n",
    "try:\n",
    "    num = int(input(\"Enter a number: \"))\n",
    "    result = 10 / num  # May cause ZeroDivisionError\n",
    "except (ZeroDivisionError, ValueError) as e:\n",
    "    print(f\"Error occurred: {e}\")\n",
    "```\n",
    "🔹 **If user enters `0` → `ZeroDivisionError` occurs.**  \n",
    "🔹 **If user enters `abc` → `ValueError` occurs.**  \n",
    "🔹 **Both errors are caught in one `except` block!**  \n",
    "\n",
    "---\n",
    "\n",
    "### **🔹 Example Output**\n",
    "#### ✅ Input:  \n",
    "```\n",
    "abc\n",
    "```\n",
    "#### ❌ Output:  \n",
    "```\n",
    "Error occurred: invalid literal for int() with base 10: 'abc'\n",
    "```\n",
    "\n",
    "#### ✅ Input:  \n",
    "```\n",
    "0\n",
    "```\n",
    "#### ❌ Output:  \n",
    "```\n",
    "Error occurred: division by zero\n",
    "```\n",
    "\n",
    "---\n",
    "\n",
    "### **📝 Best Practices**\n",
    "✔️ **Use one `except` block for closely related exceptions**  \n",
    "✔️ **Use multiple `except` blocks for different handling logic**  \n",
    "\n",
    "#### **Example: Using Multiple `except` Blocks for Specific Actions**\n",
    "```python\n",
    "try:\n",
    "    num = int(input(\"Enter a number: \"))\n",
    "    result = 10 / num\n",
    "except ZeroDivisionError:\n",
    "    print(\"You cannot divide by zero!\")\n",
    "except ValueError:\n",
    "    print(\"Invalid input! Please enter a number.\")\n",
    "except Exception as e:\n",
    "    print(f\"Unexpected error: {e}\")  # General exception handler\n",
    "```\n",
    "---\n",
    "\n",
    "### **✅ Summary**\n",
    "| **Approach**        | **Syntax** | **Best Use Case** |\n",
    "|---------------------|-----------|------------------|\n",
    "| Multiple `except` blocks | `except ZeroDivisionError: ... except ValueError: ...` | When each exception needs different handling |\n",
    "| One `except` for multiple exceptions | `except (ZeroDivisionError, ValueError) as e:` | When exceptions can be handled the same way |\n",
    "| Catching all exceptions | `except Exception as e:` | For unexpected errors (use with caution) |\n"
   ]
  },
  {
   "cell_type": "markdown",
   "metadata": {},
   "source": [
    "### Q.87  When is the finally block executed? \n",
    "\n",
    "### **When Is the `finally` Block Executed?**  \n",
    "The `finally` block **always executes**, **regardless of whether an exception occurs or not**. It is typically used for **cleanup actions** like closing files, releasing resources, or disconnecting from a database.\n",
    "\n",
    "---\n",
    "\n",
    "### **✅ Key Features of `finally`:**  \n",
    "1. **Runs if `try` succeeds** ✅  \n",
    "2. **Runs if `try` raises an exception** ✅  \n",
    "3. **Runs even if `except` handles the error** ✅  \n",
    "4. **Runs even if `try` has a `return` statement** ✅  \n",
    "5. **Runs even if the program exits (`sys.exit()`)** ✅  \n",
    "\n",
    "---\n",
    "\n",
    "### **🔹 Example 1: `finally` Runs with No Exception**\n",
    "```python\n",
    "try:\n",
    "    print(\"Inside try block\")\n",
    "except:\n",
    "    print(\"Inside except block\")\n",
    "finally:\n",
    "    print(\"Finally block executed\")\n",
    "```\n",
    "#### **🟢 Output (No Exception)**\n",
    "```\n",
    "Inside try block\n",
    "Finally block executed\n",
    "```\n",
    "\n",
    "---\n",
    "\n",
    "### **🔹 Example 2: `finally` Runs Even If Exception Occurs**\n",
    "```python\n",
    "try:\n",
    "    x = 10 / 0  # Causes ZeroDivisionError\n",
    "except ZeroDivisionError:\n",
    "    print(\"Error: Division by zero!\")\n",
    "finally:\n",
    "    print(\"Finally block executed\")\n",
    "```\n",
    "#### **🟢 Output (With Exception)**\n",
    "```\n",
    "Error: Division by zero!\n",
    "Finally block executed\n",
    "```\n",
    "\n",
    "---\n",
    "\n",
    "### **🔹 Example 3: `finally` Runs Even If `return` Is Used**\n",
    "```python\n",
    "def test_function():\n",
    "    try:\n",
    "        return \"Returning from try\"\n",
    "    finally:\n",
    "        print(\"Finally block executed\")\n",
    "\n",
    "print(test_function())\n",
    "```\n",
    "#### **🟢 Output**\n",
    "```\n",
    "Finally block executed\n",
    "Returning from try\n",
    "```\n",
    "🔹 **Even though `return` is in `try`, `finally` still runs before returning!**  \n",
    "\n",
    "---\n",
    "\n",
    "### **🔹 Example 4: `finally` Runs Even If `sys.exit()` Is Called**\n",
    "```python\n",
    "import sys\n",
    "\n",
    "try:\n",
    "    print(\"Inside try block\")\n",
    "    sys.exit()  # Exiting the program\n",
    "except:\n",
    "    print(\"Inside except block\")\n",
    "finally:\n",
    "    print(\"Finally block executed\")  # Still runs before exit!\n",
    "```\n",
    "#### **🟢 Output**\n",
    "```\n",
    "Inside try block\n",
    "Finally block executed\n",
    "```\n",
    "🔹 **Even `sys.exit()` doesn’t stop `finally` from executing!**  \n",
    "\n",
    "---\n",
    "\n",
    "### **✅ When to Use `finally`?**\n",
    "- **Closing files**\n",
    "- **Releasing database connections**\n",
    "- **Freeing up system resources**\n",
    "- **Logging final messages**\n",
    "\n",
    "---\n",
    "\n",
    "### **Summary**\n",
    "| **Scenario** | **Will `finally` execute?** |\n",
    "|-------------|----------------------|\n",
    "| No exception in `try` ✅ | Yes |\n",
    "| Exception occurs & handled ✅ | Yes |\n",
    "| Exception occurs & NOT handled ❌ | Yes (before program crashes) |\n",
    "| `return` in `try` | Yes (before returning) |\n",
    "| `sys.exit()` in `try` | Yes (before exiting) |\n"
   ]
  },
  {
   "cell_type": "markdown",
   "metadata": {},
   "source": [
    "### Q.88 What happens when „1‟== 1 is executed?\n",
    "\n",
    "### **What Happens When `\"1\" == 1` Is Executed?**  \n",
    "\n",
    "The expression:  \n",
    "```python\n",
    "\"1\" == 1\n",
    "```\n",
    "**Evaluates to `False`** because:  \n",
    "\n",
    "1. **`\"1\"` (left side) is a string**  \n",
    "2. **`1` (right side) is an integer**  \n",
    "3. **Python does not perform implicit type conversion for `==`**  \n",
    "   - Unlike some languages (e.g., JavaScript), Python **does not** automatically convert `\"1\"` to `1`.  \n",
    "\n",
    "---\n",
    "\n",
    "### **🔹 Example in Python**\n",
    "```python\n",
    "print(\"1\" == 1)  # False\n",
    "```\n",
    "#### **🟢 Output**\n",
    "```\n",
    "False\n",
    "```\n",
    "\n",
    "---\n",
    "\n",
    "### **🔹 Explanation**\n",
    "Python uses **strict type checking** for `==` comparison:  \n",
    "- **String (`str`) and Integer (`int`) are different types**  \n",
    "- Since `\"1\"` is **not** the same as `1`, Python returns `False`.\n",
    "\n",
    "---\n",
    "\n",
    "### **🔹 What If You Want to Compare the Values?**\n",
    "If you want to compare the values **after converting** `\"1\"` to an integer:\n",
    "```python\n",
    "print(int(\"1\") == 1)  # True\n",
    "```\n",
    "#### **🟢 Output**\n",
    "```\n",
    "True\n",
    "```\n",
    "\n",
    "Similarly, converting `1` to a string also works:\n",
    "```python\n",
    "print(\"1\" == str(1))  # True\n",
    "```\n",
    "\n",
    "---\n",
    "\n",
    "### **✅ Summary**\n",
    "| **Expression** | **Result** | **Reason** |\n",
    "|--------------|-----------|------------|\n",
    "| `\"1\" == 1` | `False` | String and integer are different types |\n",
    "| `int(\"1\") == 1` | `True` | Explicit conversion to integer |\n",
    "| `\"1\" == str(1)` | `True` | Explicit conversion to string |\n"
   ]
  },
  {
   "cell_type": "markdown",
   "metadata": {},
   "source": [
    "###  Q.89 How Do You Handle Exceptions with Try/Except/Finally in Python? Explain with coding snippets. \n",
    "\n",
    "## **Handling Exceptions with `try` / `except` / `finally` in Python**  \n",
    "\n",
    "Exception handling in Python helps **prevent crashes** by managing errors gracefully. The key components are:\n",
    "\n",
    "- **`try`**: Defines a block where exceptions might occur.\n",
    "- **`except`**: Catches and handles specific or general exceptions.\n",
    "- **`finally`**: Executes **no matter what** (used for cleanup actions like closing files or database connections).\n",
    "- **`else`** *(optional)*: Runs only if `try` succeeds without exceptions.\n",
    "\n",
    "---\n",
    "\n",
    "## **✅ Example 1: Basic `try` / `except`**\n",
    "```python\n",
    "try:\n",
    "    x = 10 / 0  # Causes ZeroDivisionError\n",
    "except ZeroDivisionError:\n",
    "    print(\"Error: You cannot divide by zero!\")\n",
    "```\n",
    "### **🟢 Output**\n",
    "```\n",
    "Error: You cannot divide by zero!\n",
    "```\n",
    "\n",
    "---\n",
    "\n",
    "## **✅ Example 2: Handling Multiple Exceptions**\n",
    "```python\n",
    "try:\n",
    "    num = int(input(\"Enter a number: \"))  # May raise ValueError\n",
    "    result = 10 / num  # May raise ZeroDivisionError\n",
    "except ZeroDivisionError:\n",
    "    print(\"Error: Cannot divide by zero!\")\n",
    "except ValueError:\n",
    "    print(\"Error: Invalid input! Please enter a number.\")\n",
    "```\n",
    "### **🔹 Possible Outputs**\n",
    "#### **Input:** `abc`\n",
    "```\n",
    "Error: Invalid input! Please enter a number.\n",
    "```\n",
    "#### **Input:** `0`\n",
    "```\n",
    "Error: Cannot divide by zero!\n",
    "```\n",
    "\n",
    "---\n",
    "\n",
    "## **✅ Example 3: Using `finally` for Cleanup**\n",
    "```python\n",
    "try:\n",
    "    file = open(\"sample.txt\", \"r\")  # Try to open a file\n",
    "    content = file.read()\n",
    "    print(content)\n",
    "except FileNotFoundError:\n",
    "    print(\"Error: File not found!\")\n",
    "finally:\n",
    "    print(\"Finally block executed (Cleanup done).\")\n",
    "```\n",
    "### **🟢 Output (File exists)**\n",
    "```\n",
    "<file content>\n",
    "Finally block executed (Cleanup done).\n",
    "```\n",
    "### **🟡 Output (File does not exist)**\n",
    "```\n",
    "Error: File not found!\n",
    "Finally block executed (Cleanup done).\n",
    "```\n",
    "🔹 **Even if an exception occurs, `finally` ensures the cleanup runs.**\n",
    "\n",
    "---\n",
    "\n",
    "## **✅ Example 4: Using `finally` to Close a File**\n",
    "```python\n",
    "try:\n",
    "    file = open(\"test.txt\", \"w\")\n",
    "    file.write(\"Hello, World!\")\n",
    "except Exception as e:\n",
    "    print(f\"Error: {e}\")\n",
    "finally:\n",
    "    file.close()  # Ensuring file is closed\n",
    "    print(\"File closed successfully.\")\n",
    "```\n",
    "### **🟢 Output**\n",
    "```\n",
    "File closed successfully.\n",
    "```\n",
    "\n",
    "---\n",
    "\n",
    "## **✅ Example 5: Using `else` with `try` / `except` / `finally`**\n",
    "- The `else` block **executes only if no exception occurs** in `try`.\n",
    "```python\n",
    "try:\n",
    "    num = int(input(\"Enter a number: \"))\n",
    "    result = 10 / num\n",
    "except ZeroDivisionError:\n",
    "    print(\"Error: Cannot divide by zero!\")\n",
    "except ValueError:\n",
    "    print(\"Error: Invalid input!\")\n",
    "else:\n",
    "    print(\"Success! Result:\", result)\n",
    "finally:\n",
    "    print(\"Finally block executed.\")\n",
    "```\n",
    "### **🟢 Output (Valid Input)**\n",
    "#### **Input:** `5`\n",
    "```\n",
    "Success! Result: 2.0\n",
    "Finally block executed.\n",
    "```\n",
    "### **🟡 Output (Error Occurs)**\n",
    "#### **Input:** `0`\n",
    "```\n",
    "Error: Cannot divide by zero!\n",
    "Finally block executed.\n",
    "```\n",
    "\n",
    "---\n",
    "\n",
    "## **✅ Summary**\n",
    "| **Block**   | **Purpose** |\n",
    "|------------|------------|\n",
    "| `try`      | Code that may cause an exception |\n",
    "| `except`   | Catches and handles exceptions |\n",
    "| `else`     | Runs only if `try` succeeds without errors |\n",
    "| `finally`  | Runs **always** (used for cleanup actions) |"
   ]
  },
  {
   "cell_type": "markdown",
   "metadata": {},
   "source": [
    "### Q.90 Write python program that user to enter only odd numbers, else will raise an exception. "
   ]
  },
  {
   "cell_type": "code",
   "execution_count": 33,
   "metadata": {},
   "outputs": [
    {
     "name": "stdout",
     "output_type": "stream",
     "text": [
      "Great! You entered an odd number: 3\n"
     ]
    }
   ],
   "source": [
    "class EvenNumberError(Exception):\n",
    "    \"\"\"Custom Exception for Even Numbers\"\"\"\n",
    "    pass\n",
    "\n",
    "while True:\n",
    "    try:\n",
    "        num = int(input(\"Enter an odd number: \"))  # Take user input\n",
    "        if num % 2 == 0:\n",
    "            raise EvenNumberError(\"Error: You entered an even number! Please enter an odd number.\")\n",
    "        print(f\"Great! You entered an odd number: {num}\")\n",
    "        break  # Exit loop if input is valid\n",
    "    except ValueError:\n",
    "        print(\"Error: Invalid input! Please enter a valid integer.\")\n",
    "    except EvenNumberError as e:\n",
    "        print(e)\n"
   ]
  }
 ],
 "metadata": {
  "kernelspec": {
   "display_name": "Python 3",
   "language": "python",
   "name": "python3"
  },
  "language_info": {
   "codemirror_mode": {
    "name": "ipython",
    "version": 3
   },
   "file_extension": ".py",
   "mimetype": "text/x-python",
   "name": "python",
   "nbconvert_exporter": "python",
   "pygments_lexer": "ipython3",
   "version": "3.11.9"
  }
 },
 "nbformat": 4,
 "nbformat_minor": 2
}

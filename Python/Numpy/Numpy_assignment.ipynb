{
 "cells": [
  {
   "cell_type": "markdown",
   "metadata": {},
   "source": [
    "#### Q.1 How to create an empty and full numpy array "
   ]
  },
  {
   "cell_type": "code",
   "execution_count": 2,
   "metadata": {},
   "outputs": [
    {
     "name": "stdout",
     "output_type": "stream",
     "text": [
      "[[0.00000000e+000 0.00000000e+000 0.00000000e+000]\n",
      " [0.00000000e+000 0.00000000e+000 9.09080788e-321]\n",
      " [1.17134168e-311 2.00485144e-307 0.00000000e+000]]\n",
      "\n",
      "[[7 7 7]\n",
      " [7 7 7]\n",
      " [7 7 7]]\n",
      "\n",
      "[[0 0]\n",
      " [0 0]]\n"
     ]
    }
   ],
   "source": [
    "import numpy as np\n",
    "\n",
    "empty_array = np.empty((3,3))\n",
    "print(empty_array)\n",
    "\n",
    "print()\n",
    "\n",
    "full_array = np.full((3, 3), 7)\n",
    "print(full_array)\n",
    "\n",
    "print()\n",
    "empty_2 = np.full((2,2),0)\n",
    "print(empty_2)"
   ]
  },
  {
   "cell_type": "markdown",
   "metadata": {},
   "source": [
    "#### Q.2 Create a numpy array filled with zeros "
   ]
  },
  {
   "cell_type": "code",
   "execution_count": 52,
   "metadata": {},
   "outputs": [
    {
     "data": {
      "text/plain": [
       "array([[0., 0., 0.],\n",
       "       [0., 0., 0.],\n",
       "       [0., 0., 0.]])"
      ]
     },
     "execution_count": 52,
     "metadata": {},
     "output_type": "execute_result"
    }
   ],
   "source": [
    "zeros_array = np.zeros((3,3))\n",
    "zeros_array"
   ]
  },
  {
   "cell_type": "markdown",
   "metadata": {},
   "source": [
    "#### Q.3 Create a numpy array filled with all once"
   ]
  },
  {
   "cell_type": "code",
   "execution_count": 57,
   "metadata": {},
   "outputs": [
    {
     "data": {
      "text/plain": [
       "array([[1., 1.],\n",
       "       [1., 1.]])"
      ]
     },
     "execution_count": 57,
     "metadata": {},
     "output_type": "execute_result"
    }
   ],
   "source": [
    "ones_array = np.ones((2,2))\n",
    "ones_array"
   ]
  },
  {
   "cell_type": "markdown",
   "metadata": {},
   "source": [
    "#### Q.4 Check whether a Numpy array contains specified row "
   ]
  },
  {
   "cell_type": "code",
   "execution_count": 74,
   "metadata": {},
   "outputs": [
    {
     "data": {
      "text/plain": [
       "True"
      ]
     },
     "execution_count": 74,
     "metadata": {},
     "output_type": "execute_result"
    }
   ],
   "source": [
    "arr = np.array([[1,2,3],\n",
    "                [5,6,7]])\n",
    "\n",
    "check = np.array([1,2,3])\n",
    "\n",
    "np.any(arr == check)"
   ]
  },
  {
   "cell_type": "markdown",
   "metadata": {},
   "source": [
    "#### Q.5 How to remove rows in numpy array that contain non numeric value "
   ]
  },
  {
   "cell_type": "code",
   "execution_count": 91,
   "metadata": {},
   "outputs": [
    {
     "name": "stdout",
     "output_type": "stream",
     "text": [
      "[['1' '2' '3' '5']\n",
      " ['5' '6' '7' '8']]\n"
     ]
    }
   ],
   "source": [
    "arr = np.array([[1,2,3,5],\n",
    "                [5,6,7,8],\n",
    "                [0.8,'a','b','c']])\n",
    "\n",
    "def is_numeric(row):\n",
    "    try:\n",
    "        np.array(row,dtype=float)  # Try converting row to float\n",
    "        return True\n",
    "    except ValueError:\n",
    "        return False\n",
    "\n",
    "# Filter numeric rows\n",
    "filtered_arr = np.array([row for row in arr if is_numeric(row)])\n",
    "\n",
    "print(filtered_arr)"
   ]
  },
  {
   "cell_type": "markdown",
   "metadata": {},
   "source": [
    "#### Q.6 Remove single dimensional entreis from the shape of array  "
   ]
  },
  {
   "cell_type": "code",
   "execution_count": 41,
   "metadata": {},
   "outputs": [
    {
     "name": "stdout",
     "output_type": "stream",
     "text": [
      "Original Array : \n",
      "[[[1 2 3]]]\n",
      "(1, 1, 3)\n",
      "Squeeze Array : \n",
      "[1 2 3]\n"
     ]
    },
    {
     "data": {
      "text/plain": [
       "(3,)"
      ]
     },
     "execution_count": 41,
     "metadata": {},
     "output_type": "execute_result"
    }
   ],
   "source": [
    "arr = np.array([[[1,2,3]]])\n",
    "\n",
    "sq = np.squeeze(arr)\n",
    "print(f\"Original Array : \\n{arr}\")\n",
    "print(arr.shape)\n",
    "\n",
    "print(f\"Squeeze Array : \\n{sq}\")\n",
    "sq.shape"
   ]
  },
  {
   "cell_type": "markdown",
   "metadata": {},
   "source": [
    "#### Q.7 Find a number occurrences of sequence in a Numpy array "
   ]
  },
  {
   "cell_type": "code",
   "execution_count": null,
   "metadata": {},
   "outputs": [],
   "source": []
  },
  {
   "cell_type": "markdown",
   "metadata": {},
   "source": [
    "#### Q.8 Find the most frequent value in Numpy array"
   ]
  },
  {
   "cell_type": "code",
   "execution_count": 65,
   "metadata": {},
   "outputs": [
    {
     "name": "stdout",
     "output_type": "stream",
     "text": [
      "2\n"
     ]
    }
   ],
   "source": [
    "arr = np.array([1,2,2,3,4,5,5,2])\n",
    "\n",
    "count = np.bincount(arr)\n",
    "most_frequent = np.argmax(count)\n",
    "print(most_frequent)"
   ]
  },
  {
   "cell_type": "markdown",
   "metadata": {},
   "source": [
    "#### Q.9 Combining a one and a two - dimensional Numpy Array "
   ]
  },
  {
   "cell_type": "code",
   "execution_count": 109,
   "metadata": {},
   "outputs": [
    {
     "name": "stdout",
     "output_type": "stream",
     "text": [
      "[[10 20]\n",
      " [ 4  5]\n",
      " [ 7  8]\n",
      " [ 9 10]]\n",
      "\n",
      "[[10  4  5]\n",
      " [20  7  8]\n",
      " [30  9 10]]\n",
      "\n",
      "[[10 20]\n",
      " [ 4  5]\n",
      " [ 7  8]\n",
      " [ 9 10]]\n"
     ]
    },
    {
     "data": {
      "text/plain": [
       "array([[10,  4,  5],\n",
       "       [20,  7,  8],\n",
       "       [30,  9, 10]])"
      ]
     },
     "execution_count": 109,
     "metadata": {},
     "output_type": "execute_result"
    }
   ],
   "source": [
    "one_dim = np.array([10,20])\n",
    "two_dim = np.array([[4,5],\n",
    "                    [7,8],\n",
    "                    [9,10]])\n",
    "\n",
    "print(np.row_stack((one_dim,two_dim)))\n",
    "print()\n",
    "\n",
    "one_dim = np.array([10,20,30])\n",
    "two_dim = np.array([[4,5],\n",
    "                    [7,8],\n",
    "                    [9,10]])\n",
    "\n",
    "print(np.column_stack((one_dim,two_dim)))\n",
    "print()\n",
    "\n",
    "one_dim = np.array([10,20])\n",
    "two_dim = np.array([[4,5],\n",
    "                    [7,8],\n",
    "                    [9,10]])\n",
    "\n",
    "# print(one_dim.reshape(-1,1))\n",
    "print(np.vstack((one_dim, two_dim)))\n",
    "\n",
    "one_dim = np.array([10,20,30])\n",
    "two_dim = np.array([[4,5],\n",
    "                    [7,8],\n",
    "                    [9,10]])\n",
    "\n",
    "# print(one_dim.reshape(-1,1))\n",
    "np.hstack((one_dim.reshape(-1,1), two_dim))"
   ]
  },
  {
   "cell_type": "markdown",
   "metadata": {},
   "source": [
    "#### Q.10 How to build an array of all combinations of two Numpy arrays?"
   ]
  },
  {
   "cell_type": "code",
   "execution_count": 115,
   "metadata": {},
   "outputs": [
    {
     "name": "stdout",
     "output_type": "stream",
     "text": [
      "[[10  1]\n",
      " [20  1]\n",
      " [30  1]\n",
      " [10  2]\n",
      " [20  2]\n",
      " [30  2]\n",
      " [10  3]\n",
      " [20  3]\n",
      " [30  3]\n",
      " [10  4]\n",
      " [20  4]\n",
      " [30  4]\n",
      " [10  5]\n",
      " [20  5]\n",
      " [30  5]\n",
      " [10  6]\n",
      " [20  6]\n",
      " [30  6]\n",
      " [10  7]\n",
      " [20  7]\n",
      " [30  7]\n",
      " [10  8]\n",
      " [20  8]\n",
      " [30  8]\n",
      " [10  9]\n",
      " [20  9]\n",
      " [30  9]\n",
      " [10 10]\n",
      " [20 10]\n",
      " [30 10]]\n"
     ]
    }
   ],
   "source": [
    "arr1 = np.array([10,20,30])\n",
    "arr2 = np.array([1,2,3,4,5,6,7,8,9,10])\n",
    "g1,g2 = np.meshgrid(arr1,arr2)\n",
    "\n",
    "combination = np.column_stack([g1.ravel(),g2.ravel()])\n",
    "print(combination)"
   ]
  },
  {
   "cell_type": "markdown",
   "metadata": {},
   "source": [
    "### Numpy array Operations "
   ]
  },
  {
   "cell_type": "code",
   "execution_count": null,
   "metadata": {},
   "outputs": [
    {
     "name": "stdout",
     "output_type": "stream",
     "text": [
      "Row wise: \n",
      " [[1 5 6]\n",
      " [3 7 8]] \n",
      "\n",
      "Row wise:\n",
      " [[1 2 5 6]\n",
      " [3 4 7 8]] \n",
      "\n",
      "Column wise:\n",
      " [[1 2]\n",
      " [3 4]\n",
      " [5 6]\n",
      " [7 8]]\n"
     ]
    }
   ],
   "source": [
    "# Functions 1 : np.Concatenate\n",
    "# Work :\n",
    "# Concatenate is combine two numpy array according to row and column based on set of \n",
    "# both matrix \n",
    "\n",
    "# Example 1: \n",
    "arr1 = [[1],\n",
    "        [3]]\n",
    "\n",
    "\n",
    "arr2 = [[5,6],\n",
    "        [7,8]]\n",
    "\n",
    "print(\"Row wise: \\n\",np.concatenate((arr1,arr2),axis=1),\"\\n\")\n",
    "\n",
    "# Example 2: \n",
    "arr1 = [[1,2],\n",
    "        [3,4]]\n",
    "\n",
    "\n",
    "arr2 = [[5,6],\n",
    "        [7,8]]\n",
    "\n",
    "print(\"Row wise:\\n\",np.concatenate((arr1,arr2),axis=1),\"\\n\")\n",
    "\n",
    "# Example 3:\n",
    "arr1 = [[1,2],\n",
    "        [3,4]]\n",
    "\n",
    "\n",
    "arr2 = [[5,6],\n",
    "        [7,8]]\n",
    "\n",
    "print(\"Column wise:\\n\",np.concatenate((arr1,arr2),axis=0))\n"
   ]
  },
  {
   "cell_type": "code",
   "execution_count": 208,
   "metadata": {},
   "outputs": [
    {
     "name": "stdout",
     "output_type": "stream",
     "text": [
      "[[0 1 2]\n",
      " [3 4 5]\n",
      " [6 7 8]] \n",
      "\n",
      "Total number of addition :\n",
      " 36 \n",
      "\n",
      "By default column  Wise\n",
      " [ 9 12 15] \n",
      "\n",
      "Row wise\n",
      " [ 3 12 21] \n",
      "\n"
     ]
    }
   ],
   "source": [
    "# Function 2 : add.reduce()\n",
    "# Work :\n",
    "# here we use np.add.reduce function to perform element wise addition, by using reduce funciton \n",
    "# we can do that in easy way and here we can also mention specific row as 1 and column as 0\n",
    "# so, outcomes according to the requirnment \n",
    "\n",
    "# Example 1: \n",
    "a = np.arange(9).reshape(3,3)\n",
    "print(a,\"\\n\")\n",
    "\n",
    "print(\"Total number of addition :\\n\",np.add.reduce(a, (0,1)),\"\\n\")\n",
    "\n",
    "# Example 2:\n",
    "a = np.arange(9).reshape(3,3)\n",
    "print(\"By default column  Wise\\n\",np.add.reduce(a),\"\\n\")\n",
    "\n",
    "# Example 3:\n",
    "a = np.arange(9).reshape(3,3)\n",
    "print(\"Row wise\\n\",np.add.reduce(a,axis=1),\"\\n\")\n"
   ]
  },
  {
   "cell_type": "code",
   "execution_count": 214,
   "metadata": {},
   "outputs": [
    {
     "name": "stdout",
     "output_type": "stream",
     "text": [
      "[[19 22]\n",
      " [43 50]] \n",
      "\n",
      "-2.0000000000000004 \n",
      "\n",
      "5.0 \n",
      "\n"
     ]
    }
   ],
   "source": [
    "# Function 3: Linear Algebra \n",
    "# work :\n",
    "# NumPy provides several linear algebra functions, mainly through the numpy.linalg module. These functions help perform \n",
    "# matrix operations, solving equations, determinants, and more.\n",
    "\n",
    "#Example 1:\n",
    "# dot function perfor matrix multiplication between two matrix \n",
    "\n",
    "A = np.array([[1, 2], [3, 4]])\n",
    "B = np.array([[5, 6], [7, 8]])\n",
    "\n",
    "result1 = np.dot(A, B)\n",
    "\n",
    "# result2 = np.matmul(A, B)\n",
    "print(result1,\"\\n\")\n",
    "\n",
    "\n",
    "# Example 2: \n",
    "# det function is find determine of matrix \n",
    "result1 = np.linalg.det(A)\n",
    "print(result1,\"\\n\")\n",
    "\n",
    "# Example 3:\n",
    "# The Euclidean norm (or L2 norm) is the square root of the sum of squared values.\n",
    "# (Computed as √(3² + 4²) = √9 + 16 = √25 = 5)\n",
    "\n",
    "vector = np.array([3, 4])\n",
    "norm_value = np.linalg.norm(vector)\n",
    "\n",
    "print(norm_value,\"\\n\")\n",
    "\n"
   ]
  },
  {
   "cell_type": "code",
   "execution_count": null,
   "metadata": {},
   "outputs": [
    {
     "name": "stdout",
     "output_type": "stream",
     "text": [
      "FFT Result: [ 4. +0.j        -0.5-0.8660254j -0.5+0.8660254j] \n",
      "\n",
      "Recovered Signal: [1. 2. 1.] \n",
      "\n",
      "FFT Result: [10.+0.j -2.+2.j -2.+0.j -2.-2.j]\n"
     ]
    }
   ],
   "source": [
    "# Function 4: numpy.fft()\n",
    "# The Fast Fourier Transform (FFT) is an algorithm to compute the Discrete Fourier Transform (DFT) and its inverse efficiently. \n",
    "# It is widely used in signal processing, image processing, and scientific computing.\n",
    "\n",
    "# Example 1: \n",
    "signal = np.array([1, 2, 1])\n",
    "\n",
    "fft_result = np.fft.fft(signal)\n",
    "\n",
    "print(\"FFT Result:\", fft_result,\"\\n\")\n",
    "\n",
    "# Example 2: \n",
    "# Compute the inverse FFT\n",
    "inverse_fft = np.fft.ifft(fft_result)\n",
    "\n",
    "print(\"Recovered Signal:\", inverse_fft.real,\"\\n\")  # Use .real to remove small imaginary parts\n",
    "\n",
    "# Example 3:\n",
    "# Define a simple input array\n",
    "arr = np.array([1, 2, 3, 4])\n",
    "\n",
    "# Compute the FFT\n",
    "fft_result = np.fft.fft(arr)\n",
    "\n",
    "print(\"FFT Result:\", fft_result)\n",
    "\n"
   ]
  },
  {
   "cell_type": "code",
   "execution_count": 1,
   "metadata": {},
   "outputs": [
    {
     "ename": "NameError",
     "evalue": "name 'np' is not defined",
     "output_type": "error",
     "traceback": [
      "\u001b[1;31m---------------------------------------------------------------------------\u001b[0m",
      "\u001b[1;31mNameError\u001b[0m                                 Traceback (most recent call last)",
      "Cell \u001b[1;32mIn[1], line 10\u001b[0m\n\u001b[0;32m      1\u001b[0m \u001b[38;5;66;03m# Function 5 : np.testing()\u001b[39;00m\n\u001b[0;32m      2\u001b[0m \n\u001b[0;32m      3\u001b[0m \u001b[38;5;66;03m# The numpy.testing module provides utilities for testing numerical code, ensuring that arrays and mathematical results \u001b[39;00m\n\u001b[1;32m   (...)\u001b[0m\n\u001b[0;32m      6\u001b[0m \n\u001b[0;32m      7\u001b[0m \u001b[38;5;66;03m# Example 1: \u001b[39;00m\n\u001b[0;32m      8\u001b[0m \u001b[38;5;28;01mimport\u001b[39;00m \u001b[38;5;21;01mnumpy\u001b[39;00m\u001b[38;5;21;01m.\u001b[39;00m\u001b[38;5;21;01mtesting\u001b[39;00m \u001b[38;5;28;01mas\u001b[39;00m \u001b[38;5;21;01mnpt\u001b[39;00m\n\u001b[1;32m---> 10\u001b[0m arr1 \u001b[38;5;241m=\u001b[39m \u001b[43mnp\u001b[49m\u001b[38;5;241m.\u001b[39marray([\u001b[38;5;241m1\u001b[39m, \u001b[38;5;241m2\u001b[39m, \u001b[38;5;241m3\u001b[39m])\n\u001b[0;32m     11\u001b[0m arr2 \u001b[38;5;241m=\u001b[39m np\u001b[38;5;241m.\u001b[39marray([\u001b[38;5;241m1\u001b[39m, \u001b[38;5;241m2\u001b[39m, \u001b[38;5;241m3\u001b[39m])\n\u001b[0;32m     13\u001b[0m \u001b[38;5;66;03m# Test if arr1 and arr2 are identical\u001b[39;00m\n",
      "\u001b[1;31mNameError\u001b[0m: name 'np' is not defined"
     ]
    }
   ],
   "source": [
    "# Function 5 : np.testing()\n",
    "\n",
    "# The numpy.testing module provides utilities for testing numerical code, ensuring that arrays and mathematical results \n",
    "# are correct. These functions are useful when writing unit tests for scientific computing, machine learning, \n",
    "# and data science projects.\n",
    "\n",
    "# Example 1: \n",
    "import numpy.testing as npt\n",
    "\n",
    "arr1 = np.array([1, 2, 3])\n",
    "arr2 = np.array([1, 2, 3])\n",
    "\n",
    "# Test if arr1 and arr2 are identical\n",
    "print(npt.assert_array_equal(arr1, arr2))\n",
    "\n",
    "print(\"Test Passed Arrays are exactly the same!\")\n",
    "\n",
    "\n",
    "# Example 2: \n",
    "# Works best for floating-point comparisons, where precision errors can occur.\n",
    "arr1 = np.array([1.000001, 2.00001, 3.000001])\n",
    "arr2 = np.array([1.0, 2.0, 3.0])\n",
    "\n",
    "# Test if arr1 and arr2 are nearly equal (default decimal precision = 6)\n",
    "npt.assert_array_almost_equal(arr1, arr2, decimal=5)\n",
    "\n",
    "print(\"Test Passed Arrays are nearly equal!\")\n",
    "\n",
    "# Example 3:\n",
    "def divide(a, b):\n",
    "    return a / b  # This will raise an error if b = 0\n",
    "\n",
    "# Check if dividing by zero raises a ZeroDivisionError\n",
    "with npt.assert_raises(ZeroDivisionError):\n",
    "    divide(1, 0)  # This should raise an error\n",
    "\n",
    "print(\"Test Passed Function correctly raises ZeroDivisionError!\")\n"
   ]
  },
  {
   "cell_type": "code",
   "execution_count": null,
   "metadata": {},
   "outputs": [],
   "source": []
  }
 ],
 "metadata": {
  "kernelspec": {
   "display_name": "Python 3",
   "language": "python",
   "name": "python3"
  },
  "language_info": {
   "codemirror_mode": {
    "name": "ipython",
    "version": 3
   },
   "file_extension": ".py",
   "mimetype": "text/x-python",
   "name": "python",
   "nbconvert_exporter": "python",
   "pygments_lexer": "ipython3",
   "version": "3.12.1"
  }
 },
 "nbformat": 4,
 "nbformat_minor": 2
}

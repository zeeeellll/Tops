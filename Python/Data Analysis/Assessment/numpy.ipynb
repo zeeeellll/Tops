{
 "cells": [
  {
   "cell_type": "markdown",
   "id": "f7aa5d21",
   "metadata": {},
   "source": [
    "#### Q1: Convert a 1D array to a 2D array with 2 rows"
   ]
  },
  {
   "cell_type": "code",
   "execution_count": 2,
   "id": "fadeb938",
   "metadata": {},
   "outputs": [
    {
     "name": "stdout",
     "output_type": "stream",
     "text": [
      "[[0 1 2 3 4]\n",
      " [5 6 7 8 9]]\n"
     ]
    }
   ],
   "source": [
    "import numpy as np\n",
    "\n",
    "arr = np.arange(10)  \n",
    "arr_2d = arr.reshape(2, -1)\n",
    "print(arr_2d)\n"
   ]
  },
  {
   "cell_type": "markdown",
   "id": "c37eebe1",
   "metadata": {},
   "source": [
    "####  Q2: Get the common items between a and b"
   ]
  },
  {
   "cell_type": "code",
   "execution_count": null,
   "id": "6c44616f",
   "metadata": {},
   "outputs": [
    {
     "name": "stdout",
     "output_type": "stream",
     "text": [
      "[2 4]\n"
     ]
    }
   ],
   "source": [
    "a = np.array([1,2,3,2,3,4,3,4,5,6])\n",
    "b = np.array([7,2,10,2,7,4,9,4,9,8])\n",
    "\n",
    "common = np.intersect1d(a, b)\n",
    "print(common)  \n"
   ]
  },
  {
   "cell_type": "markdown",
   "id": "667b2d06",
   "metadata": {},
   "source": [
    "#### Q3: Get all items between 5 and 10 from a"
   ]
  },
  {
   "cell_type": "code",
   "execution_count": null,
   "id": "0aa7711d",
   "metadata": {},
   "outputs": [
    {
     "name": "stdout",
     "output_type": "stream",
     "text": [
      "[ 6  9 10]\n"
     ]
    }
   ],
   "source": [
    "a = np.array([2, 6, 1, 9, 10, 3, 27])\n",
    "\n",
    "result = a[(a >= 5) & (a <= 10)]\n",
    "print(result)  \n"
   ]
  },
  {
   "cell_type": "markdown",
   "id": "e75edd2d",
   "metadata": {},
   "source": [
    "####  Q4: Limit number of items printed in array a to 6 elements"
   ]
  },
  {
   "cell_type": "code",
   "execution_count": 18,
   "id": "d71e3547",
   "metadata": {},
   "outputs": [
    {
     "name": "stdout",
     "output_type": "stream",
     "text": [
      "[18  7 12 10 17  8]\n"
     ]
    }
   ],
   "source": [
    "a = np.arange(20)\n",
    "\n",
    "print(np.random.choice(a, 6)) \n"
   ]
  }
 ],
 "metadata": {
  "kernelspec": {
   "display_name": "Python 3",
   "language": "python",
   "name": "python3"
  },
  "language_info": {
   "codemirror_mode": {
    "name": "ipython",
    "version": 3
   },
   "file_extension": ".py",
   "mimetype": "text/x-python",
   "name": "python",
   "nbconvert_exporter": "python",
   "pygments_lexer": "ipython3",
   "version": "3.12.1"
  }
 },
 "nbformat": 4,
 "nbformat_minor": 5
}
